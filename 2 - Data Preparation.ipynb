{
 "cells": [
  {
   "cell_type": "markdown",
   "metadata": {
    "collapsed": true
   },
   "source": [
    "# DATA PREPARATION"
   ]
  },
  {
   "cell_type": "markdown",
   "metadata": {},
   "source": [
    "### Merging \n",
    "proposizionalizzazione"
   ]
  },
  {
   "cell_type": "code",
   "execution_count": 97,
   "metadata": {
    "collapsed": true
   },
   "outputs": [],
   "source": [
    "import pysal\n",
    "import pandas\n",
    "import shapefile as shp\n",
    "import matplotlib.pyplot as plt\n",
    "\n",
    "pandas.set_option('display.max_rows', 100, \"display.max_columns\", 100)"
   ]
  },
  {
   "cell_type": "code",
   "execution_count": 40,
   "metadata": {
    "collapsed": false,
    "scrolled": true
   },
   "outputs": [
    {
     "name": "stdout",
     "output_type": "stream",
     "text": [
      "(485, 18)\n"
     ]
    },
    {
     "data": {
      "text/html": [
       "<div>\n",
       "<table border=\"1\" class=\"dataframe\">\n",
       "  <thead>\n",
       "    <tr style=\"text-align: right;\">\n",
       "      <th></th>\n",
       "      <th>STATEFP10</th>\n",
       "      <th>COUNTYFP10</th>\n",
       "      <th>TRACTCE10</th>\n",
       "      <th>BLKGRPCE10</th>\n",
       "      <th>GEOID10</th>\n",
       "      <th>NAMELSAD10</th>\n",
       "      <th>MTFCC10</th>\n",
       "      <th>FUNCSTAT10</th>\n",
       "      <th>ALAND10</th>\n",
       "      <th>AWATER10</th>\n",
       "      <th>INTPTLAT10</th>\n",
       "      <th>INTPTLON10</th>\n",
       "      <th>ARPCIncome</th>\n",
       "      <th>ARPerHEdu</th>\n",
       "      <th>ARPerWork</th>\n",
       "      <th>ARPerMI5L</th>\n",
       "      <th>ARPerRMI5L</th>\n",
       "      <th>ARPer3MU</th>\n",
       "    </tr>\n",
       "  </thead>\n",
       "  <tbody>\n",
       "    <tr>\n",
       "      <th>0</th>\n",
       "      <td>37</td>\n",
       "      <td>119</td>\n",
       "      <td>005301</td>\n",
       "      <td>1</td>\n",
       "      <td>371190053011</td>\n",
       "      <td>Block Group 1</td>\n",
       "      <td>G5030</td>\n",
       "      <td>S</td>\n",
       "      <td>3692032</td>\n",
       "      <td>0</td>\n",
       "      <td>+35.2582845</td>\n",
       "      <td>-080.8060757</td>\n",
       "      <td>12375.0</td>\n",
       "      <td>7.486865</td>\n",
       "      <td>69.674647</td>\n",
       "      <td>73.998045</td>\n",
       "      <td>68.132942</td>\n",
       "      <td>82.098765</td>\n",
       "    </tr>\n",
       "    <tr>\n",
       "      <th>1</th>\n",
       "      <td>37</td>\n",
       "      <td>119</td>\n",
       "      <td>001400</td>\n",
       "      <td>2</td>\n",
       "      <td>371190014002</td>\n",
       "      <td>Block Group 2</td>\n",
       "      <td>G5030</td>\n",
       "      <td>S</td>\n",
       "      <td>1051009</td>\n",
       "      <td>0</td>\n",
       "      <td>+35.2437169</td>\n",
       "      <td>-080.8024062</td>\n",
       "      <td>39139.0</td>\n",
       "      <td>13.474495</td>\n",
       "      <td>83.140878</td>\n",
       "      <td>55.172414</td>\n",
       "      <td>25.689655</td>\n",
       "      <td>27.016645</td>\n",
       "    </tr>\n",
       "    <tr>\n",
       "      <th>2</th>\n",
       "      <td>37</td>\n",
       "      <td>119</td>\n",
       "      <td>001200</td>\n",
       "      <td>3</td>\n",
       "      <td>371190012003</td>\n",
       "      <td>Block Group 3</td>\n",
       "      <td>G5030</td>\n",
       "      <td>S</td>\n",
       "      <td>2111630</td>\n",
       "      <td>6882</td>\n",
       "      <td>+35.2274080</td>\n",
       "      <td>-080.7930404</td>\n",
       "      <td>60271.0</td>\n",
       "      <td>9.193122</td>\n",
       "      <td>89.514066</td>\n",
       "      <td>23.713927</td>\n",
       "      <td>12.421581</td>\n",
       "      <td>3.436019</td>\n",
       "    </tr>\n",
       "    <tr>\n",
       "      <th>3</th>\n",
       "      <td>37</td>\n",
       "      <td>119</td>\n",
       "      <td>005847</td>\n",
       "      <td>1</td>\n",
       "      <td>371190058471</td>\n",
       "      <td>Block Group 1</td>\n",
       "      <td>G5030</td>\n",
       "      <td>S</td>\n",
       "      <td>2937830</td>\n",
       "      <td>19993</td>\n",
       "      <td>+35.0855266</td>\n",
       "      <td>-080.7642117</td>\n",
       "      <td>70142.0</td>\n",
       "      <td>13.423352</td>\n",
       "      <td>84.393758</td>\n",
       "      <td>20.808081</td>\n",
       "      <td>0.000000</td>\n",
       "      <td>0.000000</td>\n",
       "    </tr>\n",
       "  </tbody>\n",
       "</table>\n",
       "</div>"
      ],
      "text/plain": [
       "  STATEFP10 COUNTYFP10 TRACTCE10 BLKGRPCE10       GEOID10     NAMELSAD10  \\\n",
       "0        37        119    005301          1  371190053011  Block Group 1   \n",
       "1        37        119    001400          2  371190014002  Block Group 2   \n",
       "2        37        119    001200          3  371190012003  Block Group 3   \n",
       "3        37        119    005847          1  371190058471  Block Group 1   \n",
       "\n",
       "  MTFCC10 FUNCSTAT10  ALAND10  AWATER10   INTPTLAT10    INTPTLON10  \\\n",
       "0   G5030          S  3692032         0  +35.2582845  -080.8060757   \n",
       "1   G5030          S  1051009         0  +35.2437169  -080.8024062   \n",
       "2   G5030          S  2111630      6882  +35.2274080  -080.7930404   \n",
       "3   G5030          S  2937830     19993  +35.0855266  -080.7642117   \n",
       "\n",
       "   ARPCIncome  ARPerHEdu  ARPerWork  ARPerMI5L  ARPerRMI5L   ARPer3MU  \n",
       "0     12375.0   7.486865  69.674647  73.998045   68.132942  82.098765  \n",
       "1     39139.0  13.474495  83.140878  55.172414   25.689655  27.016645  \n",
       "2     60271.0   9.193122  89.514066  23.713927   12.421581   3.436019  \n",
       "3     70142.0  13.423352  84.393758  20.808081    0.000000   0.000000  "
      ]
     },
     "execution_count": 40,
     "metadata": {},
     "output_type": "execute_result"
    }
   ],
   "source": [
    "db_blocks_people = pysal.open('./dataset/Data/CLT_BlockGroups_Attr.dbf','r')\n",
    "df_blocks_people = pandas.DataFrame(db_blocks_people[:], columns=db_blocks_people.header)\n",
    "print df_blocks_people.shape\n",
    "df_blocks_people.ix[:3]"
   ]
  },
  {
   "cell_type": "code",
   "execution_count": 41,
   "metadata": {
    "collapsed": false
   },
   "outputs": [
    {
     "name": "stdout",
     "output_type": "stream",
     "text": [
      "485 set: 205\n"
     ]
    }
   ],
   "source": [
    "# to rem\n",
    "t_in_groups = [str(i) for i in df_blocks_people[\"TRACTCE10\"].tolist()]\n",
    "print len(t_in_groups), \"set:\", len(set(t_in_groups))"
   ]
  },
  {
   "cell_type": "code",
   "execution_count": 4,
   "metadata": {
    "collapsed": false,
    "scrolled": true
   },
   "outputs": [
    {
     "data": {
      "text/html": [
       "<div>\n",
       "<table border=\"1\" class=\"dataframe\">\n",
       "  <thead>\n",
       "    <tr style=\"text-align: right;\">\n",
       "      <th></th>\n",
       "      <th>STATEFP10</th>\n",
       "      <th>COUNTYFP10</th>\n",
       "      <th>TRACTCE10</th>\n",
       "      <th>BLOCKCE</th>\n",
       "      <th>BLOCKID10</th>\n",
       "      <th>PARTFLG</th>\n",
       "      <th>ARPopDen</th>\n",
       "      <th>ARPerAA</th>\n",
       "      <th>ARHeteInx</th>\n",
       "      <th>ARPerM1724</th>\n",
       "      <th>ARPerHOwn</th>\n",
       "      <th>ARPerSF</th>\n",
       "    </tr>\n",
       "  </thead>\n",
       "  <tbody>\n",
       "    <tr>\n",
       "      <th>0</th>\n",
       "      <td>37</td>\n",
       "      <td>119</td>\n",
       "      <td>005401</td>\n",
       "      <td>2028</td>\n",
       "      <td>371190054012028</td>\n",
       "      <td>N</td>\n",
       "      <td>0.000116</td>\n",
       "      <td>97.590361</td>\n",
       "      <td>0.047322</td>\n",
       "      <td>3.614458</td>\n",
       "      <td>84.615385</td>\n",
       "      <td>33.333333</td>\n",
       "    </tr>\n",
       "    <tr>\n",
       "      <th>1</th>\n",
       "      <td>37</td>\n",
       "      <td>119</td>\n",
       "      <td>004600</td>\n",
       "      <td>2025</td>\n",
       "      <td>371190046002025</td>\n",
       "      <td>N</td>\n",
       "      <td>0.000000</td>\n",
       "      <td>0.000000</td>\n",
       "      <td>0.000000</td>\n",
       "      <td>0.000000</td>\n",
       "      <td>0.000000</td>\n",
       "      <td>0.000000</td>\n",
       "    </tr>\n",
       "  </tbody>\n",
       "</table>\n",
       "</div>"
      ],
      "text/plain": [
       "  STATEFP10 COUNTYFP10 TRACTCE10 BLOCKCE        BLOCKID10 PARTFLG  ARPopDen  \\\n",
       "0        37        119    005401    2028  371190054012028       N  0.000116   \n",
       "1        37        119    004600    2025  371190046002025       N  0.000000   \n",
       "\n",
       "     ARPerAA  ARHeteInx  ARPerM1724  ARPerHOwn    ARPerSF  \n",
       "0  97.590361   0.047322    3.614458  84.615385  33.333333  \n",
       "1   0.000000   0.000000    0.000000   0.000000   0.000000  "
      ]
     },
     "execution_count": 4,
     "metadata": {},
     "output_type": "execute_result"
    }
   ],
   "source": [
    "db_blocks = pysal.open('./dataset/Data/CLT_Blocks_Attr.dbf','r')\n",
    "df_blocks = pandas.DataFrame(db_blocks[:], columns=db_blocks.header)\n",
    "df_blocks.ix[:1]"
   ]
  },
  {
   "cell_type": "code",
   "execution_count": 12,
   "metadata": {
    "collapsed": false,
    "scrolled": false
   },
   "outputs": [
    {
     "name": "stdout",
     "output_type": "stream",
     "text": [
      "(8354, 12)\n",
      "number of unique blocks: 315\n"
     ]
    }
   ],
   "source": [
    "# BLOCKID10 unique length 15\n",
    "# first digit of BLOCKCE refers to the BLOCK GROUP\n",
    "attr = \"BLOCKCE\"\n",
    "print df_blocks.shape\n",
    "print \"number of unique blocks:\", len(set([ str(i) for i in df_blocks[attr].tolist()]))"
   ]
  },
  {
   "cell_type": "code",
   "execution_count": 8,
   "metadata": {
    "collapsed": false
   },
   "outputs": [
    {
     "name": "stdout",
     "output_type": "stream",
     "text": [
      "(67595, 53)\n"
     ]
    },
    {
     "data": {
      "text/html": [
       "<div>\n",
       "<table border=\"1\" class=\"dataframe\">\n",
       "  <thead>\n",
       "    <tr style=\"text-align: right;\">\n",
       "      <th></th>\n",
       "      <th>OBJECTID_1</th>\n",
       "      <th>OBJECTID</th>\n",
       "      <th>Complaint_</th>\n",
       "      <th>ComplainNo</th>\n",
       "      <th>Block_No</th>\n",
       "      <th>Direction</th>\n",
       "      <th>Street_Nam</th>\n",
       "      <th>Street_Typ</th>\n",
       "      <th>Suffix</th>\n",
       "      <th>Apt_No</th>\n",
       "      <th>...</th>\n",
       "      <th>F42</th>\n",
       "      <th>OID_</th>\n",
       "      <th>Complaint1</th>\n",
       "      <th>Complain_1</th>\n",
       "      <th>Attempt</th>\n",
       "      <th>NIBRScateg</th>\n",
       "      <th>NIBRSclass</th>\n",
       "      <th>NOCcode</th>\n",
       "      <th>strMapped</th>\n",
       "      <th>WHOLESTNAM</th>\n",
       "    </tr>\n",
       "  </thead>\n",
       "  <tbody>\n",
       "    <tr>\n",
       "      <th>0</th>\n",
       "      <td>1</td>\n",
       "      <td>1</td>\n",
       "      <td>2.010010e+13</td>\n",
       "      <td>20100101000504</td>\n",
       "      <td>1120.0</td>\n",
       "      <td></td>\n",
       "      <td>SCALEYBARK</td>\n",
       "      <td>RD</td>\n",
       "      <td></td>\n",
       "      <td></td>\n",
       "      <td>...</td>\n",
       "      <td></td>\n",
       "      <td>0</td>\n",
       "      <td>2.010010e+13</td>\n",
       "      <td>20100101000504</td>\n",
       "      <td>Completed</td>\n",
       "      <td>Assault / Assault: on Government Officer or Em...</td>\n",
       "      <td>Simple Assault</td>\n",
       "      <td>13B</td>\n",
       "      <td>1</td>\n",
       "      <td>SCALEYBARK RD</td>\n",
       "    </tr>\n",
       "  </tbody>\n",
       "</table>\n",
       "<p>1 rows × 53 columns</p>\n",
       "</div>"
      ],
      "text/plain": [
       "   OBJECTID_1  OBJECTID    Complaint_      ComplainNo  Block_No Direction  \\\n",
       "0           1         1  2.010010e+13  20100101000504    1120.0             \n",
       "\n",
       "   Street_Nam Street_Typ Suffix Apt_No      ...       F42 OID_    Complaint1  \\\n",
       "0  SCALEYBARK         RD                    ...              0  2.010010e+13   \n",
       "\n",
       "       Complain_1    Attempt  \\\n",
       "0  20100101000504  Completed   \n",
       "\n",
       "                                          NIBRScateg      NIBRSclass NOCcode  \\\n",
       "0  Assault / Assault: on Government Officer or Em...  Simple Assault     13B   \n",
       "\n",
       "  strMapped     WHOLESTNAM  \n",
       "0         1  SCALEYBARK RD  \n",
       "\n",
       "[1 rows x 53 columns]"
      ]
     },
     "execution_count": 8,
     "metadata": {},
     "output_type": "execute_result"
    }
   ],
   "source": [
    "db_crimes = pysal.open('./dataset/Data/CrimeIncident_CMPD_2010.dbf','r')\n",
    "df_crimes = pandas.DataFrame(db_crimes[:], columns=db_crimes.header)\n",
    "print df_crimes.shape\n",
    "df_crimes.ix[:0]"
   ]
  },
  {
   "cell_type": "code",
   "execution_count": 10,
   "metadata": {
    "collapsed": false
   },
   "outputs": [
    {
     "name": "stdout",
     "output_type": "stream",
     "text": [
      "24375\n"
     ]
    },
    {
     "data": {
      "text/html": [
       "<div>\n",
       "<table border=\"1\" class=\"dataframe\">\n",
       "  <thead>\n",
       "    <tr style=\"text-align: right;\">\n",
       "      <th></th>\n",
       "      <th>OBJECTID</th>\n",
       "      <th>Join_Count</th>\n",
       "      <th>ID</th>\n",
       "      <th>NUM_ADDR</th>\n",
       "      <th>NUMADD_M</th>\n",
       "      <th>Match_</th>\n",
       "      <th>year_</th>\n",
       "      <th>Quarter</th>\n",
       "      <th>NAICS</th>\n",
       "      <th>CntCode</th>\n",
       "      <th>...</th>\n",
       "      <th>extra_Info</th>\n",
       "      <th>NewAdd11</th>\n",
       "      <th>emp_old</th>\n",
       "      <th>tempadd</th>\n",
       "      <th>StrMapped</th>\n",
       "      <th>WHOLESTNAM</th>\n",
       "      <th>WHOLESTN_F</th>\n",
       "      <th>ST_NAME</th>\n",
       "      <th>ST_NAME_LA</th>\n",
       "      <th>StrMapID</th>\n",
       "    </tr>\n",
       "  </thead>\n",
       "  <tbody>\n",
       "    <tr>\n",
       "      <th>0</th>\n",
       "      <td>18421</td>\n",
       "      <td>1</td>\n",
       "      <td>48567.0</td>\n",
       "      <td>339743</td>\n",
       "      <td>339743</td>\n",
       "      <td>g</td>\n",
       "      <td>2008.0</td>\n",
       "      <td>1.0</td>\n",
       "      <td>531210.0</td>\n",
       "      <td>119</td>\n",
       "      <td>...</td>\n",
       "      <td>0</td>\n",
       "      <td>0</td>\n",
       "      <td>4</td>\n",
       "      <td>0</td>\n",
       "      <td>0</td>\n",
       "      <td>LANCASTER HWY</td>\n",
       "      <td>LANCASTER HY</td>\n",
       "      <td>LANCASTER</td>\n",
       "      <td>HY</td>\n",
       "      <td>28294</td>\n",
       "    </tr>\n",
       "  </tbody>\n",
       "</table>\n",
       "<p>1 rows × 80 columns</p>\n",
       "</div>"
      ],
      "text/plain": [
       "   OBJECTID  Join_Count       ID NUM_ADDR NUMADD_M Match_   year_  Quarter  \\\n",
       "0     18421           1  48567.0   339743   339743      g  2008.0      1.0   \n",
       "\n",
       "      NAICS CntCode   ...    extra_Info NewAdd11  emp_old tempadd StrMapped  \\\n",
       "0  531210.0     119   ...             0        0        4       0         0   \n",
       "\n",
       "      WHOLESTNAM    WHOLESTN_F    ST_NAME ST_NAME_LA StrMapID  \n",
       "0  LANCASTER HWY  LANCASTER HY  LANCASTER         HY    28294  \n",
       "\n",
       "[1 rows x 80 columns]"
      ]
     },
     "execution_count": 10,
     "metadata": {},
     "output_type": "execute_result"
    }
   ],
   "source": [
    "db_business = pysal.open('./dataset/Data/CLT_Business_Attri.dbf','r')\n",
    "df_business = pandas.DataFrame(db_business[:], columns=db_business.header)\n",
    "\n",
    "print(len(df_business))\n",
    "df_business[:1]"
   ]
  },
  {
   "cell_type": "code",
   "execution_count": 164,
   "metadata": {
    "collapsed": false
   },
   "outputs": [
    {
     "name": "stdout",
     "output_type": "stream",
     "text": [
      "(67594, 53)\n"
     ]
    },
    {
     "data": {
      "text/plain": [
       "50455"
      ]
     },
     "execution_count": 164,
     "metadata": {},
     "output_type": "execute_result"
    }
   ],
   "source": [
    "# print df_crimes.shape\n",
    "# len([ str(i) for i in df_crimes[\"Street_Nam\"].tolist() if i in inter])"
   ]
  },
  {
   "cell_type": "code",
   "execution_count": 70,
   "metadata": {
    "collapsed": false,
    "scrolled": true
   },
   "outputs": [
    {
     "name": "stdout",
     "output_type": "stream",
     "text": [
      "50455 blocks \t set: 323\n",
      "485 blocks \t set: 485\n",
      "\n",
      "181  in comune\n"
     ]
    }
   ],
   "source": [
    "blocks_in_block  = [str(i)[0:12] for i in df_blocks[\"BLOCKID10\"].tolist()]\n",
    "blocks_in_busin  = [str(i) for i in df_business[\"Block_id\"].tolist()]\n",
    "blocks_in_crimes = [str(i)[0:12] for i in df_crimes[\"BLOCKID10\"].tolist()]\n",
    "blocks_in_groups = [str(i) for i in df_blocks_people[\"GEOID10\"].tolist()]\n",
    "\n",
    "set_blocks_in_block  = set(blocks_in_block)\n",
    "set_blocks_in_busin  = set(blocks_in_busin)\n",
    "set_blocks_in_crimes = set(blocks_in_crimes)\n",
    "set_blocks_in_groups = set(blocks_in_groups)\n",
    "\n",
    "def inspect(set_blocks_in_block, blocks_in_groups):\n",
    "    print len(blocks_in_crimes), \"blocks \\t set:\", len(set_blocks_in_crimes)\n",
    "    print len(blocks_in_groups), \"blocks \\t set:\", len(set_blocks_in_groups)\n",
    "    print \"\"\n",
    "    print len(set(blocks_in_crimes) & set(blocks_in_groups)), \" in comune\"\n",
    "    \n",
    "inspect(blocks_in_crimes, blocks_in_groups)"
   ]
  },
  {
   "cell_type": "code",
   "execution_count": 53,
   "metadata": {
    "collapsed": false
   },
   "outputs": [
    {
     "data": {
      "text/plain": [
       "19106"
      ]
     },
     "execution_count": 53,
     "metadata": {},
     "output_type": "execute_result"
    }
   ],
   "source": [
    "# blocks in crime that are both in df_blocks and in df_blocks_people\n",
    "len([str(i) for i in df_crimes[\"BLOCKID10\"].tolist() if i in set_blocks_in_block and i[0:12] in set_blocks_in_groups])"
   ]
  },
  {
   "cell_type": "code",
   "execution_count": null,
   "metadata": {
    "collapsed": false
   },
   "outputs": [],
   "source": []
  },
  {
   "cell_type": "code",
   "execution_count": 89,
   "metadata": {
    "collapsed": false
   },
   "outputs": [
    {
     "data": {
      "text/plain": [
       "(67595, 53)"
      ]
     },
     "execution_count": 89,
     "metadata": {},
     "output_type": "execute_result"
    }
   ],
   "source": [
    "# old\n",
    "df_crimes.shape"
   ]
  },
  {
   "cell_type": "code",
   "execution_count": 127,
   "metadata": {
    "collapsed": false
   },
   "outputs": [
    {
     "data": {
      "text/plain": [
       "(50455, 54)"
      ]
     },
     "execution_count": 127,
     "metadata": {},
     "output_type": "execute_result"
    }
   ],
   "source": [
    "# new\n",
    "df_crimes.shape"
   ]
  },
  {
   "cell_type": "code",
   "execution_count": null,
   "metadata": {
    "collapsed": false
   },
   "outputs": [],
   "source": []
  },
  {
   "cell_type": "code",
   "execution_count": null,
   "metadata": {
    "collapsed": false
   },
   "outputs": [],
   "source": []
  },
  {
   "cell_type": "code",
   "execution_count": 22,
   "metadata": {
    "collapsed": false
   },
   "outputs": [
    {
     "data": {
      "text/plain": [
       "1695"
      ]
     },
     "execution_count": 22,
     "metadata": {},
     "output_type": "execute_result"
    }
   ],
   "source": [
    "len(set([str(i) for i in df_crimes[\"BLOCKID10\"].tolist()]))"
   ]
  },
  {
   "cell_type": "code",
   "execution_count": 42,
   "metadata": {
    "collapsed": false
   },
   "outputs": [],
   "source": []
  },
  {
   "cell_type": "code",
   "execution_count": 71,
   "metadata": {
    "collapsed": false
   },
   "outputs": [],
   "source": [
    "# add column in crime dataframe for block ID - taken from busine dataframe\n",
    "street2block = df_business.set_index('ST_NAME')[\"Block_id\"].to_dict()\n",
    "df_crimes[\"BLOCKID10\"] = df_crimes[\"Street_Nam\"].map(lambda street: street2block.get(street, \"not found\"))"
   ]
  },
  {
   "cell_type": "code",
   "execution_count": 98,
   "metadata": {
    "collapsed": false,
    "scrolled": false
   },
   "outputs": [
    {
     "data": {
      "text/html": [
       "<div>\n",
       "<table border=\"1\" class=\"dataframe\">\n",
       "  <thead>\n",
       "    <tr style=\"text-align: right;\">\n",
       "      <th></th>\n",
       "      <th>OBJECTID_1</th>\n",
       "      <th>OBJECTID</th>\n",
       "      <th>Complaint_</th>\n",
       "      <th>ComplainNo</th>\n",
       "      <th>Block_No</th>\n",
       "      <th>Direction</th>\n",
       "      <th>Street_Nam</th>\n",
       "      <th>Street_Typ</th>\n",
       "      <th>Suffix</th>\n",
       "      <th>Apt_No</th>\n",
       "      <th>City</th>\n",
       "      <th>State</th>\n",
       "      <th>ZipCode</th>\n",
       "      <th>X</th>\n",
       "      <th>Y</th>\n",
       "      <th>Division</th>\n",
       "      <th>Report_Dat</th>\n",
       "      <th>Location_D</th>\n",
       "      <th>Location_T</th>\n",
       "      <th>Incident_F</th>\n",
       "      <th>Incident_T</th>\n",
       "      <th>Place1</th>\n",
       "      <th>Place2</th>\n",
       "      <th>CSS_Called</th>\n",
       "      <th>Clearance_</th>\n",
       "      <th>Clearance1</th>\n",
       "      <th>Case_Statu</th>\n",
       "      <th>Reporting_</th>\n",
       "      <th>Follow_Up_</th>\n",
       "      <th>NIBRS_Hi_C</th>\n",
       "      <th>rp_last_na</th>\n",
       "      <th>rp_first_n</th>\n",
       "      <th>rp_middle_</th>\n",
       "      <th>rp_Block_N</th>\n",
       "      <th>rp_Directi</th>\n",
       "      <th>rp_Street_</th>\n",
       "      <th>rp_Street1</th>\n",
       "      <th>re_Suffix</th>\n",
       "      <th>rp_Apt_No</th>\n",
       "      <th>rp_City</th>\n",
       "      <th>rp_State</th>\n",
       "      <th>rp_ZipCode</th>\n",
       "      <th>F41</th>\n",
       "      <th>F42</th>\n",
       "      <th>OID_</th>\n",
       "      <th>Complaint1</th>\n",
       "      <th>Complain_1</th>\n",
       "      <th>Attempt</th>\n",
       "      <th>NIBRScateg</th>\n",
       "      <th>NIBRSclass</th>\n",
       "      <th>NOCcode</th>\n",
       "      <th>strMapped</th>\n",
       "      <th>WHOLESTNAM</th>\n",
       "      <th>BLOCKID10</th>\n",
       "      <th>ARPCIncome</th>\n",
       "      <th>ARPerHEdu</th>\n",
       "      <th>ARPerWork</th>\n",
       "      <th>ARPerRMI5L</th>\n",
       "      <th>ARPer3MU</th>\n",
       "      <th>ARPopDen</th>\n",
       "      <th>ARPerAA</th>\n",
       "      <th>ARHeteInx</th>\n",
       "      <th>ARPerM1724</th>\n",
       "      <th>ARPerHOwn</th>\n",
       "      <th>ARPerSF</th>\n",
       "    </tr>\n",
       "  </thead>\n",
       "  <tbody>\n",
       "    <tr>\n",
       "      <th>0</th>\n",
       "      <td>1</td>\n",
       "      <td>1</td>\n",
       "      <td>2.010010e+13</td>\n",
       "      <td>20100101000504</td>\n",
       "      <td>1120.0</td>\n",
       "      <td></td>\n",
       "      <td>SCALEYBARK</td>\n",
       "      <td>RD</td>\n",
       "      <td></td>\n",
       "      <td></td>\n",
       "      <td>CHARLOTTE</td>\n",
       "      <td>NC</td>\n",
       "      <td></td>\n",
       "      <td>1444054.0</td>\n",
       "      <td>523228.0</td>\n",
       "      <td>26.0</td>\n",
       "      <td>01/01/2010 0005</td>\n",
       "      <td>Location of occurrence</td>\n",
       "      <td>Indoors</td>\n",
       "      <td>01/01/2010 0005</td>\n",
       "      <td></td>\n",
       "      <td>Residential</td>\n",
       "      <td>Apartment/Duplex Private Res</td>\n",
       "      <td>N</td>\n",
       "      <td>Normal Clearance - Cleared by Arrest</td>\n",
       "      <td>1/1/2010</td>\n",
       "      <td>Close/Cleared</td>\n",
       "      <td>Charlotte-Mecklenburg Police Department</td>\n",
       "      <td>26-WESTOVER DIVISION</td>\n",
       "      <td>Simple Assault</td>\n",
       "      <td>ISENHOUR</td>\n",
       "      <td>#3907</td>\n",
       "      <td></td>\n",
       "      <td></td>\n",
       "      <td></td>\n",
       "      <td></td>\n",
       "      <td></td>\n",
       "      <td></td>\n",
       "      <td></td>\n",
       "      <td></td>\n",
       "      <td></td>\n",
       "      <td></td>\n",
       "      <td></td>\n",
       "      <td></td>\n",
       "      <td>0</td>\n",
       "      <td>2.010010e+13</td>\n",
       "      <td>20100101000504</td>\n",
       "      <td>Completed</td>\n",
       "      <td>Assault / Assault: on Government Officer or Em...</td>\n",
       "      <td>Simple Assault</td>\n",
       "      <td>13B</td>\n",
       "      <td>1</td>\n",
       "      <td>SCALEYBARK RD</td>\n",
       "      <td>371190032011003</td>\n",
       "      <td>23826</td>\n",
       "      <td>22.5136</td>\n",
       "      <td>93.0147</td>\n",
       "      <td>30.6122</td>\n",
       "      <td>20.3501</td>\n",
       "      <td>NF</td>\n",
       "      <td>NF</td>\n",
       "      <td>NF</td>\n",
       "      <td>NF</td>\n",
       "      <td>NF</td>\n",
       "      <td>NF</td>\n",
       "    </tr>\n",
       "    <tr>\n",
       "      <th>1</th>\n",
       "      <td>5</td>\n",
       "      <td>5</td>\n",
       "      <td>2.010010e+13</td>\n",
       "      <td>20100101001511</td>\n",
       "      <td>5715.0</td>\n",
       "      <td></td>\n",
       "      <td>ELECTRA</td>\n",
       "      <td>LN</td>\n",
       "      <td></td>\n",
       "      <td>A</td>\n",
       "      <td>CHARLOTTE</td>\n",
       "      <td>NC</td>\n",
       "      <td>28212</td>\n",
       "      <td>1476761.0</td>\n",
       "      <td>526064.0</td>\n",
       "      <td>17.0</td>\n",
       "      <td>01/01/2010 0015</td>\n",
       "      <td>Location of occurrence</td>\n",
       "      <td>Outdoors</td>\n",
       "      <td>01/01/2010 0015</td>\n",
       "      <td></td>\n",
       "      <td>Residential</td>\n",
       "      <td>Apartment/Duplex Private Res</td>\n",
       "      <td>N</td>\n",
       "      <td>Open</td>\n",
       "      <td></td>\n",
       "      <td>Inactive</td>\n",
       "      <td>Charlotte-Mecklenburg Police Department</td>\n",
       "      <td>17-INDEPENDENCE DIVISION</td>\n",
       "      <td>Aggravated Assault</td>\n",
       "      <td>ROSAS</td>\n",
       "      <td>ALFREDO</td>\n",
       "      <td>GARCIA</td>\n",
       "      <td>5715</td>\n",
       "      <td></td>\n",
       "      <td>ELECTRA</td>\n",
       "      <td>LN</td>\n",
       "      <td></td>\n",
       "      <td>A</td>\n",
       "      <td>CHARLOTTE</td>\n",
       "      <td>NC</td>\n",
       "      <td>28212</td>\n",
       "      <td></td>\n",
       "      <td></td>\n",
       "      <td>10</td>\n",
       "      <td>2.010010e+13</td>\n",
       "      <td>20100101001511</td>\n",
       "      <td>Completed</td>\n",
       "      <td>Assault / Assault: Discharging Weapon into Occ...</td>\n",
       "      <td>Aggravated Assault</td>\n",
       "      <td>13A</td>\n",
       "      <td>1</td>\n",
       "      <td>ELECTRA LN</td>\n",
       "      <td>371190019091000</td>\n",
       "      <td>NF</td>\n",
       "      <td>NF</td>\n",
       "      <td>NF</td>\n",
       "      <td>NF</td>\n",
       "      <td>NF</td>\n",
       "      <td>NF</td>\n",
       "      <td>NF</td>\n",
       "      <td>NF</td>\n",
       "      <td>NF</td>\n",
       "      <td>NF</td>\n",
       "      <td>NF</td>\n",
       "    </tr>\n",
       "  </tbody>\n",
       "</table>\n",
       "</div>"
      ],
      "text/plain": [
       "   OBJECTID_1  OBJECTID    Complaint_      ComplainNo  Block_No Direction  \\\n",
       "0           1         1  2.010010e+13  20100101000504    1120.0             \n",
       "1           5         5  2.010010e+13  20100101001511    5715.0             \n",
       "\n",
       "   Street_Nam Street_Typ Suffix Apt_No       City State ZipCode          X  \\\n",
       "0  SCALEYBARK         RD                CHARLOTTE    NC          1444054.0   \n",
       "1     ELECTRA         LN             A  CHARLOTTE    NC   28212  1476761.0   \n",
       "\n",
       "          Y  Division       Report_Dat              Location_D Location_T  \\\n",
       "0  523228.0      26.0  01/01/2010 0005  Location of occurrence    Indoors   \n",
       "1  526064.0      17.0  01/01/2010 0015  Location of occurrence   Outdoors   \n",
       "\n",
       "        Incident_F Incident_T       Place1                        Place2  \\\n",
       "0  01/01/2010 0005             Residential  Apartment/Duplex Private Res   \n",
       "1  01/01/2010 0015             Residential  Apartment/Duplex Private Res   \n",
       "\n",
       "  CSS_Called                            Clearance_ Clearance1     Case_Statu  \\\n",
       "0          N  Normal Clearance - Cleared by Arrest   1/1/2010  Close/Cleared   \n",
       "1          N                                  Open                  Inactive   \n",
       "\n",
       "                                Reporting_                Follow_Up_  \\\n",
       "0  Charlotte-Mecklenburg Police Department      26-WESTOVER DIVISION   \n",
       "1  Charlotte-Mecklenburg Police Department  17-INDEPENDENCE DIVISION   \n",
       "\n",
       "           NIBRS_Hi_C rp_last_na rp_first_n rp_middle_ rp_Block_N rp_Directi  \\\n",
       "0      Simple Assault   ISENHOUR      #3907                                    \n",
       "1  Aggravated Assault      ROSAS    ALFREDO     GARCIA       5715              \n",
       "\n",
       "  rp_Street_ rp_Street1 re_Suffix rp_Apt_No    rp_City rp_State rp_ZipCode  \\\n",
       "0                                                                            \n",
       "1    ELECTRA         LN                   A  CHARLOTTE       NC      28212   \n",
       "\n",
       "  F41 F42  OID_    Complaint1      Complain_1    Attempt  \\\n",
       "0             0  2.010010e+13  20100101000504  Completed   \n",
       "1            10  2.010010e+13  20100101001511  Completed   \n",
       "\n",
       "                                          NIBRScateg          NIBRSclass  \\\n",
       "0  Assault / Assault: on Government Officer or Em...      Simple Assault   \n",
       "1  Assault / Assault: Discharging Weapon into Occ...  Aggravated Assault   \n",
       "\n",
       "  NOCcode  strMapped     WHOLESTNAM        BLOCKID10 ARPCIncome ARPerHEdu  \\\n",
       "0     13B          1  SCALEYBARK RD  371190032011003      23826   22.5136   \n",
       "1     13A          1     ELECTRA LN  371190019091000         NF        NF   \n",
       "\n",
       "  ARPerWork ARPerRMI5L ARPer3MU ARPopDen ARPerAA ARHeteInx ARPerM1724  \\\n",
       "0   93.0147    30.6122  20.3501       NF      NF        NF         NF   \n",
       "1        NF         NF       NF       NF      NF        NF         NF   \n",
       "\n",
       "  ARPerHOwn ARPerSF  \n",
       "0        NF      NF  \n",
       "1        NF      NF  "
      ]
     },
     "execution_count": 98,
     "metadata": {},
     "output_type": "execute_result"
    }
   ],
   "source": [
    "# remove rows where blockID is not found\n",
    "df_crimes = df_crimes[df_crimes[\"BLOCKID10\"] != \"not found\"]\n",
    "df_crimes = df_crimes.reset_index(drop=True)\n",
    "df_crimes[:2]"
   ]
  },
  {
   "cell_type": "code",
   "execution_count": 107,
   "metadata": {
    "collapsed": false
   },
   "outputs": [
    {
     "name": "stdout",
     "output_type": "stream",
     "text": [
      "NF\n"
     ]
    }
   ],
   "source": [
    "# adding df_blocks' and df_blocks_people's columns of interest\n",
    "block2group = {}\n",
    "for index, row in df_blocks_people.iterrows():\n",
    "    block2group[str(row[\"GEOID10\"])] = {\n",
    "        \"ARPCIncome\": row[\"ARPCIncome\"],\n",
    "        \"ARPerHEdu\":  row[\"ARPerHEdu\"],\n",
    "        \"ARPerWork\":  row[\"ARPerWork\"],\n",
    "        \"ARPerRMI5L\": row[\"ARPerRMI5L\"],\n",
    "        \"ARPer3MU\":   row[\"ARPer3MU\"]}\n",
    "\n",
    "block2block = {}\n",
    "for index, row in df_blocks.iterrows():\n",
    "    block2block[str(row[\"BLOCKID10\"])] = {\n",
    "        \"ARPopDen\":   row[\"ARPopDen\"],\n",
    "        \"ARPerAA\":    row[\"ARPerAA\"],\n",
    "        \"ARHeteInx\":  row[\"ARHeteInx\"],\n",
    "        \"ARPerM1724\": row[\"ARPerM1724\"],\n",
    "        \"ARPerHOwn\":  row[\"ARPerHOwn\"],\n",
    "        \"ARPerSF\":    row[\"ARPerSF\"]}\n",
    "\n",
    "df_crimes[\"ARPCIncome\"] = df_crimes[\"BLOCKID10\"].map(lambda block_id: block2group.get(block_id[0:12], {}).get(\"ARPCIncome\", \"NF\"))\n",
    "df_crimes[\"ARPerHEdu\"]  = df_crimes[\"BLOCKID10\"].map(lambda block_id: block2group.get(block_id[0:12], {}).get(\"ARPerHEdu\", \"NF\"))\n",
    "df_crimes[\"ARPerWork\"]  = df_crimes[\"BLOCKID10\"].map(lambda block_id: block2group.get(block_id[0:12], {}).get(\"ARPerWork\", \"NF\"))\n",
    "df_crimes[\"ARPerRMI5L\"] = df_crimes[\"BLOCKID10\"].map(lambda block_id: block2group.get(block_id[0:12], {}).get(\"ARPerRMI5L\", \"NF\"))\n",
    "df_crimes[\"ARPer3MU\"]   = df_crimes[\"BLOCKID10\"].map(lambda block_id: block2group.get(block_id[0:12], {}).get(\"ARPer3MU\", \"NF\"))\n",
    "\n",
    "df_crimes[\"ARPopDen\"]   = df_crimes[\"BLOCKID10\"].map(lambda block_id: block2block.get(block_id, {}).get(\"ARPopDen\", \"NF\"))\n",
    "df_crimes[\"ARPerAA\"]    = df_crimes[\"BLOCKID10\"].map(lambda block_id: block2block.get(block_id, {}).get(\"ARPerAA\", \"NF\"))\n",
    "df_crimes[\"ARHeteInx\"]  = df_crimes[\"BLOCKID10\"].map(lambda block_id: block2block.get(block_id, {}).get(\"ARHeteInx\", \"NF\"))\n",
    "df_crimes[\"ARPerM1724\"] = df_crimes[\"BLOCKID10\"].map(lambda block_id: block2block.get(block_id, {}).get(\"ARPerM1724\", \"NF\"))\n",
    "df_crimes[\"ARPerHOwn\"]  = df_crimes[\"BLOCKID10\"].map(lambda block_id: block2block.get(block_id, {}).get(\"ARPerHOwn\", \"NF\"))\n",
    "df_crimes[\"ARPerSF\"]    = df_crimes[\"BLOCKID10\"].map(lambda block_id: block2block.get(block_id, {}).get(\"ARPerSF\", \"NF\"))"
   ]
  },
  {
   "cell_type": "code",
   "execution_count": 116,
   "metadata": {
    "collapsed": false
   },
   "outputs": [
    {
     "data": {
      "text/plain": [
       "(19106, 65)"
      ]
     },
     "execution_count": 116,
     "metadata": {},
     "output_type": "execute_result"
    }
   ],
   "source": [
    "# removing all rows that don't have census attributes\n",
    "df_temp = df_crimes[df_crimes[\"ARPopDen\"] != \"NF\"]\n",
    "df_crimes_and_census = df_temp[df_temp[\"ARPCIncome\"] != \"NF\"]\n",
    "df_crimes_and_census.shape"
   ]
  },
  {
   "cell_type": "code",
   "execution_count": 125,
   "metadata": {
    "collapsed": false
   },
   "outputs": [],
   "source": [
    "df_crimes_and_census.to_csv(\"dataset/prova.csv\", sep='\\t')"
   ]
  },
  {
   "cell_type": "code",
   "execution_count": null,
   "metadata": {
    "collapsed": true
   },
   "outputs": [],
   "source": [
    "# find nearest n business for a crime (or POI)\n"
   ]
  },
  {
   "cell_type": "code",
   "execution_count": null,
   "metadata": {
    "collapsed": true
   },
   "outputs": [],
   "source": [
    "# merging business with POIs"
   ]
  },
  {
   "cell_type": "code",
   "execution_count": 139,
   "metadata": {
    "collapsed": false
   },
   "outputs": [
    {
     "name": "stdout",
     "output_type": "stream",
     "text": [
      "\n"
     ]
    }
   ],
   "source": [
    "# keeping only some crimes columns\n",
    "col2keep = []\n",
    "df_crimes[col2keep]\n",
    "print \"\""
   ]
  }
 ],
 "metadata": {
  "kernelspec": {
   "display_name": "Python 2",
   "language": "python",
   "name": "python2"
  },
  "language_info": {
   "codemirror_mode": {
    "name": "ipython",
    "version": 2
   },
   "file_extension": ".py",
   "mimetype": "text/x-python",
   "name": "python",
   "nbconvert_exporter": "python",
   "pygments_lexer": "ipython2",
   "version": "2.7.11"
  }
 },
 "nbformat": 4,
 "nbformat_minor": 0
}
