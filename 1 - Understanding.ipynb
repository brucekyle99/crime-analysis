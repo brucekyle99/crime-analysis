{
 "cells": [
  {
   "cell_type": "markdown",
   "metadata": {
    "collapsed": true
   },
   "source": [
    "# DATA UNDERSTANDING"
   ]
  },
  {
   "cell_type": "code",
   "execution_count": 75,
   "metadata": {
    "collapsed": false
   },
   "outputs": [
    {
     "name": "stdout",
     "output_type": "stream",
     "text": [
      "Python 2.7.11 :: Anaconda 4.0.0 (x86_64)\r\n"
     ]
    }
   ],
   "source": [
    "import pysal\n",
    "import pandas\n",
    "import mapnik\n",
    "!python --version"
   ]
  },
  {
   "cell_type": "markdown",
   "metadata": {},
   "source": [
    "---\n",
    "### Blocks People"
   ]
  },
  {
   "cell_type": "code",
   "execution_count": 57,
   "metadata": {
    "collapsed": false
   },
   "outputs": [
    {
     "data": {
      "text/html": [
       "<div>\n",
       "<table border=\"1\" class=\"dataframe\">\n",
       "  <thead>\n",
       "    <tr style=\"text-align: right;\">\n",
       "      <th></th>\n",
       "      <th>STATEFP10</th>\n",
       "      <th>COUNTYFP10</th>\n",
       "      <th>TRACTCE10</th>\n",
       "      <th>BLKGRPCE10</th>\n",
       "      <th>GEOID10</th>\n",
       "      <th>NAMELSAD10</th>\n",
       "      <th>MTFCC10</th>\n",
       "      <th>FUNCSTAT10</th>\n",
       "      <th>ALAND10</th>\n",
       "      <th>AWATER10</th>\n",
       "      <th>INTPTLAT10</th>\n",
       "      <th>INTPTLON10</th>\n",
       "      <th>ARPCIncome</th>\n",
       "      <th>ARPerHEdu</th>\n",
       "      <th>ARPerWork</th>\n",
       "      <th>ARPerMI5L</th>\n",
       "      <th>ARPerRMI5L</th>\n",
       "      <th>ARPer3MU</th>\n",
       "    </tr>\n",
       "  </thead>\n",
       "  <tbody>\n",
       "    <tr>\n",
       "      <th>0</th>\n",
       "      <td>37</td>\n",
       "      <td>119</td>\n",
       "      <td>005301</td>\n",
       "      <td>1</td>\n",
       "      <td>371190053011</td>\n",
       "      <td>Block Group 1</td>\n",
       "      <td>G5030</td>\n",
       "      <td>S</td>\n",
       "      <td>3692032</td>\n",
       "      <td>0</td>\n",
       "      <td>+35.2582845</td>\n",
       "      <td>-080.8060757</td>\n",
       "      <td>12375.0</td>\n",
       "      <td>7.486865</td>\n",
       "      <td>69.674647</td>\n",
       "      <td>73.998045</td>\n",
       "      <td>68.132942</td>\n",
       "      <td>82.098765</td>\n",
       "    </tr>\n",
       "    <tr>\n",
       "      <th>1</th>\n",
       "      <td>37</td>\n",
       "      <td>119</td>\n",
       "      <td>001400</td>\n",
       "      <td>2</td>\n",
       "      <td>371190014002</td>\n",
       "      <td>Block Group 2</td>\n",
       "      <td>G5030</td>\n",
       "      <td>S</td>\n",
       "      <td>1051009</td>\n",
       "      <td>0</td>\n",
       "      <td>+35.2437169</td>\n",
       "      <td>-080.8024062</td>\n",
       "      <td>39139.0</td>\n",
       "      <td>13.474495</td>\n",
       "      <td>83.140878</td>\n",
       "      <td>55.172414</td>\n",
       "      <td>25.689655</td>\n",
       "      <td>27.016645</td>\n",
       "    </tr>\n",
       "  </tbody>\n",
       "</table>\n",
       "</div>"
      ],
      "text/plain": [
       "  STATEFP10 COUNTYFP10 TRACTCE10 BLKGRPCE10       GEOID10     NAMELSAD10  \\\n",
       "0        37        119    005301          1  371190053011  Block Group 1   \n",
       "1        37        119    001400          2  371190014002  Block Group 2   \n",
       "\n",
       "  MTFCC10 FUNCSTAT10  ALAND10  AWATER10   INTPTLAT10    INTPTLON10  \\\n",
       "0   G5030          S  3692032         0  +35.2582845  -080.8060757   \n",
       "1   G5030          S  1051009         0  +35.2437169  -080.8024062   \n",
       "\n",
       "   ARPCIncome  ARPerHEdu  ARPerWork  ARPerMI5L  ARPerRMI5L   ARPer3MU  \n",
       "0     12375.0   7.486865  69.674647  73.998045   68.132942  82.098765  \n",
       "1     39139.0  13.474495  83.140878  55.172414   25.689655  27.016645  "
      ]
     },
     "execution_count": 57,
     "metadata": {},
     "output_type": "execute_result"
    }
   ],
   "source": [
    "db_blocks_people = pysal.open('./dataset/Data/CLT_BlockGroups_Attr.dbf','r')\n",
    "#print map(lambda x: str(x), db.header)\n",
    "df_blocks_people = pandas.DataFrame(db_blocks_people[0:-1], columns=db_blocks_people.header)\n",
    "df_blocks_people[0:2]"
   ]
  },
  {
   "cell_type": "markdown",
   "metadata": {},
   "source": [
    "---\n",
    "### Blocks"
   ]
  },
  {
   "cell_type": "code",
   "execution_count": 61,
   "metadata": {
    "collapsed": false
   },
   "outputs": [
    {
     "data": {
      "text/html": [
       "<div>\n",
       "<table border=\"1\" class=\"dataframe\">\n",
       "  <thead>\n",
       "    <tr style=\"text-align: right;\">\n",
       "      <th></th>\n",
       "      <th>STATEFP10</th>\n",
       "      <th>COUNTYFP10</th>\n",
       "      <th>TRACTCE10</th>\n",
       "      <th>BLOCKCE</th>\n",
       "      <th>BLOCKID10</th>\n",
       "      <th>PARTFLG</th>\n",
       "      <th>ARPopDen</th>\n",
       "      <th>ARPerAA</th>\n",
       "      <th>ARHeteInx</th>\n",
       "      <th>ARPerM1724</th>\n",
       "      <th>ARPerHOwn</th>\n",
       "      <th>ARPerSF</th>\n",
       "    </tr>\n",
       "  </thead>\n",
       "  <tbody>\n",
       "    <tr>\n",
       "      <th>0</th>\n",
       "      <td>37</td>\n",
       "      <td>119</td>\n",
       "      <td>005401</td>\n",
       "      <td>2028</td>\n",
       "      <td>371190054012028</td>\n",
       "      <td>N</td>\n",
       "      <td>0.000116</td>\n",
       "      <td>97.590361</td>\n",
       "      <td>0.047322</td>\n",
       "      <td>3.614458</td>\n",
       "      <td>84.615385</td>\n",
       "      <td>33.333333</td>\n",
       "    </tr>\n",
       "    <tr>\n",
       "      <th>1</th>\n",
       "      <td>37</td>\n",
       "      <td>119</td>\n",
       "      <td>004600</td>\n",
       "      <td>2025</td>\n",
       "      <td>371190046002025</td>\n",
       "      <td>N</td>\n",
       "      <td>0.000000</td>\n",
       "      <td>0.000000</td>\n",
       "      <td>0.000000</td>\n",
       "      <td>0.000000</td>\n",
       "      <td>0.000000</td>\n",
       "      <td>0.000000</td>\n",
       "    </tr>\n",
       "  </tbody>\n",
       "</table>\n",
       "</div>"
      ],
      "text/plain": [
       "  STATEFP10 COUNTYFP10 TRACTCE10 BLOCKCE        BLOCKID10 PARTFLG  ARPopDen  \\\n",
       "0        37        119    005401    2028  371190054012028       N  0.000116   \n",
       "1        37        119    004600    2025  371190046002025       N  0.000000   \n",
       "\n",
       "     ARPerAA  ARHeteInx  ARPerM1724  ARPerHOwn    ARPerSF  \n",
       "0  97.590361   0.047322    3.614458  84.615385  33.333333  \n",
       "1   0.000000   0.000000    0.000000   0.000000   0.000000  "
      ]
     },
     "execution_count": 61,
     "metadata": {},
     "output_type": "execute_result"
    }
   ],
   "source": [
    "db_blocks = pysal.open('./dataset/Data/CLT_Blocks_Attr.dbf','r')\n",
    "df_blocks = pandas.DataFrame(db_blocks[0:-1], columns=db_blocks.header)\n",
    "df_blocks[0:2]"
   ]
  },
  {
   "cell_type": "markdown",
   "metadata": {},
   "source": [
    "---\n",
    "### Crime per Street"
   ]
  },
  {
   "cell_type": "code",
   "execution_count": 70,
   "metadata": {
    "collapsed": false
   },
   "outputs": [
    {
     "data": {
      "text/html": [
       "<div>\n",
       "<table border=\"1\" class=\"dataframe\">\n",
       "  <thead>\n",
       "    <tr style=\"text-align: right;\">\n",
       "      <th></th>\n",
       "      <th>WHOLESTNAM</th>\n",
       "      <th>crmCntAUNC</th>\n",
       "      <th>BusinCnt</th>\n",
       "    </tr>\n",
       "  </thead>\n",
       "  <tbody>\n",
       "    <tr>\n",
       "      <th>0</th>\n",
       "      <td>Carolina Academy Rd</td>\n",
       "      <td>2</td>\n",
       "      <td>0</td>\n",
       "    </tr>\n",
       "    <tr>\n",
       "      <th>1</th>\n",
       "      <td>Carolina Academy Rd</td>\n",
       "      <td>0</td>\n",
       "      <td>0</td>\n",
       "    </tr>\n",
       "    <tr>\n",
       "      <th>2</th>\n",
       "      <td>Churchfield Ln</td>\n",
       "      <td>0</td>\n",
       "      <td>0</td>\n",
       "    </tr>\n",
       "    <tr>\n",
       "      <th>3</th>\n",
       "      <td>Westmill Ln</td>\n",
       "      <td>0</td>\n",
       "      <td>0</td>\n",
       "    </tr>\n",
       "    <tr>\n",
       "      <th>4</th>\n",
       "      <td>Wade Ardrey Rd</td>\n",
       "      <td>0</td>\n",
       "      <td>0</td>\n",
       "    </tr>\n",
       "  </tbody>\n",
       "</table>\n",
       "</div>"
      ],
      "text/plain": [
       "            WHOLESTNAM  crmCntAUNC  BusinCnt\n",
       "0  Carolina Academy Rd           2         0\n",
       "1  Carolina Academy Rd           0         0\n",
       "2       Churchfield Ln           0         0\n",
       "3          Westmill Ln           0         0\n",
       "4       Wade Ardrey Rd           0         0"
      ]
     },
     "execution_count": 70,
     "metadata": {},
     "output_type": "execute_result"
    }
   ],
   "source": [
    "db_crime_per_street = pysal.open('./dataset/Data/CLT_Streets_crmCntAUNCC_Business.dbf','r')\n",
    "df_crime_per_street = pandas.DataFrame(db_crime_per_street[0:-1], columns=db_crime_per_street.header)\n",
    "df_crime_per_street[0:5]"
   ]
  },
  {
   "cell_type": "markdown",
   "metadata": {},
   "source": [
    "---\n",
    "### Something"
   ]
  },
  {
   "cell_type": "code",
   "execution_count": 74,
   "metadata": {
    "collapsed": false
   },
   "outputs": [
    {
     "data": {
      "text/html": [
       "<div>\n",
       "<table border=\"1\" class=\"dataframe\">\n",
       "  <thead>\n",
       "    <tr style=\"text-align: right;\">\n",
       "      <th></th>\n",
       "      <th>OBJECTID</th>\n",
       "      <th>Join_Count</th>\n",
       "      <th>ID</th>\n",
       "      <th>NUM_ADDR</th>\n",
       "      <th>NUMADD_M</th>\n",
       "      <th>Match_</th>\n",
       "      <th>year_</th>\n",
       "      <th>Quarter</th>\n",
       "      <th>NAICS</th>\n",
       "      <th>CntCode</th>\n",
       "      <th>...</th>\n",
       "      <th>extra_Info</th>\n",
       "      <th>NewAdd11</th>\n",
       "      <th>emp_old</th>\n",
       "      <th>tempadd</th>\n",
       "      <th>StrMapped</th>\n",
       "      <th>WHOLESTNAM</th>\n",
       "      <th>WHOLESTN_F</th>\n",
       "      <th>ST_NAME</th>\n",
       "      <th>ST_NAME_LA</th>\n",
       "      <th>StrMapID</th>\n",
       "    </tr>\n",
       "  </thead>\n",
       "  <tbody>\n",
       "    <tr>\n",
       "      <th>0</th>\n",
       "      <td>18421</td>\n",
       "      <td>1</td>\n",
       "      <td>48567.0</td>\n",
       "      <td>339743</td>\n",
       "      <td>339743</td>\n",
       "      <td>g</td>\n",
       "      <td>2008.0</td>\n",
       "      <td>1.0</td>\n",
       "      <td>531210.0</td>\n",
       "      <td>119</td>\n",
       "      <td>...</td>\n",
       "      <td>0</td>\n",
       "      <td>0</td>\n",
       "      <td>4</td>\n",
       "      <td>0</td>\n",
       "      <td>0</td>\n",
       "      <td>LANCASTER HWY</td>\n",
       "      <td>LANCASTER HY</td>\n",
       "      <td>LANCASTER</td>\n",
       "      <td>HY</td>\n",
       "      <td>28294</td>\n",
       "    </tr>\n",
       "  </tbody>\n",
       "</table>\n",
       "<p>1 rows × 80 columns</p>\n",
       "</div>"
      ],
      "text/plain": [
       "   OBJECTID  Join_Count       ID NUM_ADDR NUMADD_M Match_   year_  Quarter  \\\n",
       "0     18421           1  48567.0   339743   339743      g  2008.0      1.0   \n",
       "\n",
       "      NAICS CntCode   ...    extra_Info NewAdd11  emp_old tempadd StrMapped  \\\n",
       "0  531210.0     119   ...             0        0        4       0         0   \n",
       "\n",
       "      WHOLESTNAM    WHOLESTN_F    ST_NAME ST_NAME_LA StrMapID  \n",
       "0  LANCASTER HWY  LANCASTER HY  LANCASTER         HY    28294  \n",
       "\n",
       "[1 rows x 80 columns]"
      ]
     },
     "execution_count": 74,
     "metadata": {},
     "output_type": "execute_result"
    }
   ],
   "source": [
    "db_some = pysal.open('./dataset/Data/CLT_Business_Attri.dbf','r')\n",
    "df_some = pandas.DataFrame(db_some[0:-1], columns=db_some.header)\n",
    "df_some[0:1]"
   ]
  },
  {
   "cell_type": "markdown",
   "metadata": {
    "collapsed": false
   },
   "source": [
    "---"
   ]
  },
  {
   "cell_type": "code",
   "execution_count": null,
   "metadata": {
    "collapsed": false
   },
   "outputs": [],
   "source": [
    "import shapefile as shp\n",
    "import matplotlib.pyplot as plt\n",
    "\n",
    "sf = shp.Reader(\"./dataset/Data/POI_WALMART.shp\")\n",
    "\n",
    "plt.figure()\n",
    "for shape in sf.shapeRecords():\n",
    "    x = [i[0] for i in shape.shape.points[:]]\n",
    "    y = [i[1] for i in shape.shape.points[:]]\n",
    "    plt.plot(x,y)\n",
    "plt.show()"
   ]
  },
  {
   "cell_type": "code",
   "execution_count": null,
   "metadata": {
    "collapsed": false
   },
   "outputs": [],
   "source": [
    "import numpy as np\n",
    "from matplotlib import pyplot as p  #contains both numpy and pyplot\n",
    "x1 = [-1,-1,10,10,-1]; \n",
    "y1 = [-1,10,10,-1,-1]\n",
    "x2 = [21,21,29,29,21]; \n",
    "y2 = [21,29,29,21,21]\n",
    "shapes = [[x1,y1],[x2,y2]]\n",
    "for shape in shapes:\n",
    "  x,y = shape\n",
    "  p.plot(x,y)\n",
    "p.show()"
   ]
  }
 ],
 "metadata": {
  "kernelspec": {
   "display_name": "Python 2",
   "language": "python",
   "name": "python2"
  },
  "language_info": {
   "codemirror_mode": {
    "name": "ipython",
    "version": 2
   },
   "file_extension": ".py",
   "mimetype": "text/x-python",
   "name": "python",
   "nbconvert_exporter": "python",
   "pygments_lexer": "ipython2",
   "version": "2.7.11"
  }
 },
 "nbformat": 4,
 "nbformat_minor": 2
}
