{
 "cells": [
  {
   "cell_type": "markdown",
   "metadata": {},
   "source": [
    "## MODELING"
   ]
  },
  {
   "cell_type": "code",
   "execution_count": 1,
   "metadata": {
    "collapsed": false
   },
   "outputs": [],
   "source": [
    "import os\n",
    "import sys\n",
    "import pandas\n",
    "import matplotlib.pyplot as plt\n",
    "sys.path.append(os.path.abspath(\"./util\"))\n",
    "from pymining import itemmining, assocrules\n",
    "from fp_growth import find_frequent_itemsets as get_freq_itemset\n",
    "\n",
    "%matplotlib inline\n",
    "plt.style.use('ggplot')\n",
    "pandas.set_option('display.max_rows', 100, \"display.max_columns\", 100)"
   ]
  },
  {
   "cell_type": "code",
   "execution_count": 24,
   "metadata": {
    "collapsed": false
   },
   "outputs": [
    {
     "data": {
      "text/plain": [
       "(19106, 23)"
      ]
     },
     "execution_count": 24,
     "metadata": {},
     "output_type": "execute_result"
    }
   ],
   "source": [
    "df = pandas.read_csv(\"./dataset/crimes_census_5poi.csv\", sep=\"\\t\")\n",
    "df = df.drop([\"Unnamed: 0\"], axis=1)\n",
    "df.shape"
   ]
  },
  {
   "cell_type": "code",
   "execution_count": 4,
   "metadata": {
    "collapsed": false
   },
   "outputs": [
    {
     "data": {
      "text/html": [
       "<div>\n",
       "<table border=\"1\" class=\"dataframe\">\n",
       "  <thead>\n",
       "    <tr style=\"text-align: right;\">\n",
       "      <th></th>\n",
       "      <th>First_POI</th>\n",
       "      <th>Second_POI</th>\n",
       "      <th>Third_POI</th>\n",
       "      <th>Fourth_POI</th>\n",
       "      <th>Fifth_POI</th>\n",
       "      <th>ARPCIncome</th>\n",
       "      <th>ARPerHEdu</th>\n",
       "      <th>ARPerWork</th>\n",
       "      <th>ARPerRMI5L</th>\n",
       "      <th>ARPer3MU</th>\n",
       "      <th>ARPopDen</th>\n",
       "      <th>ARPerAA</th>\n",
       "      <th>ARHeteInx</th>\n",
       "      <th>ARPerM1724</th>\n",
       "      <th>ARPerHOwn</th>\n",
       "      <th>ARPerSF</th>\n",
       "      <th>NIBRSclass</th>\n",
       "      <th>Clearance_</th>\n",
       "      <th>Place2</th>\n",
       "      <th>Location_T</th>\n",
       "      <th>Report_Dat</th>\n",
       "      <th>Street_Nam</th>\n",
       "    </tr>\n",
       "  </thead>\n",
       "  <tbody>\n",
       "    <tr>\n",
       "      <th>count</th>\n",
       "      <td>19106</td>\n",
       "      <td>19106</td>\n",
       "      <td>19105</td>\n",
       "      <td>19106</td>\n",
       "      <td>19104</td>\n",
       "      <td>19106</td>\n",
       "      <td>19106</td>\n",
       "      <td>19106</td>\n",
       "      <td>19106</td>\n",
       "      <td>19106</td>\n",
       "      <td>19106</td>\n",
       "      <td>19106</td>\n",
       "      <td>19106</td>\n",
       "      <td>19106</td>\n",
       "      <td>19106</td>\n",
       "      <td>19106</td>\n",
       "      <td>19106</td>\n",
       "      <td>19106</td>\n",
       "      <td>19106</td>\n",
       "      <td>19106</td>\n",
       "      <td>19106</td>\n",
       "      <td>19106</td>\n",
       "    </tr>\n",
       "    <tr>\n",
       "      <th>unique</th>\n",
       "      <td>3814</td>\n",
       "      <td>3952</td>\n",
       "      <td>4080</td>\n",
       "      <td>4340</td>\n",
       "      <td>4404</td>\n",
       "      <td>7</td>\n",
       "      <td>7</td>\n",
       "      <td>7</td>\n",
       "      <td>9</td>\n",
       "      <td>9</td>\n",
       "      <td>7</td>\n",
       "      <td>9</td>\n",
       "      <td>9</td>\n",
       "      <td>5</td>\n",
       "      <td>9</td>\n",
       "      <td>7</td>\n",
       "      <td>52</td>\n",
       "      <td>10</td>\n",
       "      <td>67</td>\n",
       "      <td>5</td>\n",
       "      <td>36</td>\n",
       "      <td>1094</td>\n",
       "    </tr>\n",
       "    <tr>\n",
       "      <th>top</th>\n",
       "      <td>MARMI</td>\n",
       "      <td>hotels</td>\n",
       "      <td>BILLY REID</td>\n",
       "      <td>LENSCRAFTERS</td>\n",
       "      <td>CARLYLE &amp; COMPANY</td>\n",
       "      <td>inc-1/7</td>\n",
       "      <td>edu-6/7</td>\n",
       "      <td>empl-1/7</td>\n",
       "      <td>lt5y-1/9</td>\n",
       "      <td>3mu-3/9</td>\n",
       "      <td>popden-5/7</td>\n",
       "      <td>afro-1/9</td>\n",
       "      <td>hetero-1/9</td>\n",
       "      <td>youngm-3/5</td>\n",
       "      <td>own-1/9</td>\n",
       "      <td>sinpar-6/7</td>\n",
       "      <td>Theft From Motor Vehicle</td>\n",
       "      <td>Open</td>\n",
       "      <td>Private Residence</td>\n",
       "      <td>Indoors</td>\n",
       "      <td>07-2x</td>\n",
       "      <td>TRADE</td>\n",
       "    </tr>\n",
       "    <tr>\n",
       "      <th>freq</th>\n",
       "      <td>215</td>\n",
       "      <td>312</td>\n",
       "      <td>215</td>\n",
       "      <td>215</td>\n",
       "      <td>215</td>\n",
       "      <td>2967</td>\n",
       "      <td>2828</td>\n",
       "      <td>3183</td>\n",
       "      <td>2274</td>\n",
       "      <td>2665</td>\n",
       "      <td>3219</td>\n",
       "      <td>2840</td>\n",
       "      <td>3629</td>\n",
       "      <td>4912</td>\n",
       "      <td>3287</td>\n",
       "      <td>3527</td>\n",
       "      <td>2523</td>\n",
       "      <td>11520</td>\n",
       "      <td>3950</td>\n",
       "      <td>8451</td>\n",
       "      <td>684</td>\n",
       "      <td>787</td>\n",
       "    </tr>\n",
       "  </tbody>\n",
       "</table>\n",
       "</div>"
      ],
      "text/plain": [
       "       First_POI Second_POI   Third_POI    Fourth_POI          Fifth_POI  \\\n",
       "count      19106      19106       19105         19106              19104   \n",
       "unique      3814       3952        4080          4340               4404   \n",
       "top        MARMI     hotels  BILLY REID  LENSCRAFTERS  CARLYLE & COMPANY   \n",
       "freq         215        312         215           215                215   \n",
       "\n",
       "       ARPCIncome ARPerHEdu ARPerWork ARPerRMI5L ARPer3MU    ARPopDen  \\\n",
       "count       19106     19106     19106      19106    19106       19106   \n",
       "unique          7         7         7          9        9           7   \n",
       "top       inc-1/7   edu-6/7  empl-1/7   lt5y-1/9  3mu-3/9  popden-5/7   \n",
       "freq         2967      2828      3183       2274     2665        3219   \n",
       "\n",
       "         ARPerAA   ARHeteInx  ARPerM1724 ARPerHOwn     ARPerSF  \\\n",
       "count      19106       19106       19106     19106       19106   \n",
       "unique         9           9           5         9           7   \n",
       "top     afro-1/9  hetero-1/9  youngm-3/5   own-1/9  sinpar-6/7   \n",
       "freq        2840        3629        4912      3287        3527   \n",
       "\n",
       "                      NIBRSclass Clearance_             Place2 Location_T  \\\n",
       "count                      19106      19106              19106      19106   \n",
       "unique                        52         10                 67          5   \n",
       "top     Theft From Motor Vehicle       Open  Private Residence    Indoors   \n",
       "freq                        2523      11520               3950       8451   \n",
       "\n",
       "       Report_Dat Street_Nam  \n",
       "count       19106      19106  \n",
       "unique         36       1094  \n",
       "top         07-2x      TRADE  \n",
       "freq          684        787  "
      ]
     },
     "execution_count": 4,
     "metadata": {},
     "output_type": "execute_result"
    }
   ],
   "source": [
    "df.drop([\"BLOCKID10\"], axis=1).describe()"
   ]
  },
  {
   "cell_type": "code",
   "execution_count": 5,
   "metadata": {
    "collapsed": false
   },
   "outputs": [],
   "source": [
    "transactions = [row.tolist() for i, row in df.iterrows()]\n",
    "\n",
    "to_tuple = lambda trans_list: tuple([tuple(trans) for trans in trans_list])\n",
    "percentage = lambda x, tot=len(transactions): (x * 1.0) / tot"
   ]
  },
  {
   "cell_type": "markdown",
   "metadata": {},
   "source": [
    "## Frequent Itemset generation"
   ]
  },
  {
   "cell_type": "code",
   "execution_count": 6,
   "metadata": {
    "collapsed": true
   },
   "outputs": [],
   "source": [
    "min_supp = 400"
   ]
  },
  {
   "cell_type": "markdown",
   "metadata": {},
   "source": [
    "#### Relim\n",
    "https://pdfs.semanticscholar.org/cb3e/76d1773d08545f21daf28cc87b051604aa95.pdf"
   ]
  },
  {
   "cell_type": "code",
   "execution_count": 10,
   "metadata": {
    "collapsed": false
   },
   "outputs": [
    {
     "name": "stdout",
     "output_type": "stream",
     "text": [
      "CPU times: user 36.1 s, sys: 199 ms, total: 36.3 s\n",
      "Wall time: 37.1 s\n"
     ]
    }
   ],
   "source": [
    "%%time\n",
    "relim_input = itemmining.get_relim_input(to_tuple(transactions))\n",
    "relim_itemsets = itemmining.relim(relim_input, min_support=min_supp)"
   ]
  },
  {
   "cell_type": "markdown",
   "metadata": {},
   "source": [
    "#### FP-Growth"
   ]
  },
  {
   "cell_type": "code",
   "execution_count": 7,
   "metadata": {
    "collapsed": false
   },
   "outputs": [
    {
     "name": "stdout",
     "output_type": "stream",
     "text": [
      "number of frequent itemsets 43133 \n",
      "\n",
      "CPU times: user 44.4 s, sys: 470 ms, total: 44.9 s\n",
      "Wall time: 46.9 s\n"
     ]
    }
   ],
   "source": [
    "%%time\n",
    "freq_item_generator = get_freq_itemset(transactions, min_supp, include_support=True)\n",
    "\n",
    "fp_itemsets = {frozenset(itemset[0]): itemset[1] for itemset in freq_item_generator}\n",
    "print \"number of frequent itemsets\", len(fp_itemsets), \"\\n\""
   ]
  },
  {
   "cell_type": "markdown",
   "metadata": {},
   "source": [
    "## Rule generation"
   ]
  },
  {
   "cell_type": "code",
   "execution_count": 8,
   "metadata": {
    "collapsed": true
   },
   "outputs": [],
   "source": [
    "min_conf = 0.97"
   ]
  },
  {
   "cell_type": "code",
   "execution_count": 9,
   "metadata": {
    "collapsed": false
   },
   "outputs": [
    {
     "name": "stdout",
     "output_type": "stream",
     "text": [
      "CPU times: user 2min 11s, sys: 3min 55s, total: 6min 7s\n",
      "Wall time: 9min 12s\n"
     ]
    }
   ],
   "source": [
    "%%time\n",
    "rules = assocrules.mine_assoc_rules(fp_itemsets, min_confidence=min_conf)\n",
    "len(rules)"
   ]
  },
  {
   "cell_type": "code",
   "execution_count": 11,
   "metadata": {
    "collapsed": false
   },
   "outputs": [
    {
     "data": {
      "text/plain": [
       "5005518"
      ]
     },
     "execution_count": 11,
     "metadata": {},
     "output_type": "execute_result"
    }
   ],
   "source": [
    "len(rules)"
   ]
  },
  {
   "cell_type": "code",
   "execution_count": 23,
   "metadata": {
    "collapsed": false
   },
   "outputs": [],
   "source": [
    "result_file=open('./dataset/result_file.txt', 'w+')\n",
    "\n",
    "for rule in rules:\n",
    "    result_file.write(\n",
    "        str([j for j in rule[0]]) + \" --> \" + str([z for z in rule[1]]) + \n",
    "        \", supp: \" + str(rule[2]) + \n",
    "        \", conf: \" + str(rule[3]))"
   ]
  }
 ],
 "metadata": {
  "kernelspec": {
   "display_name": "Python 2",
   "language": "python",
   "name": "python2"
  },
  "language_info": {
   "codemirror_mode": {
    "name": "ipython",
    "version": 2
   },
   "file_extension": ".py",
   "mimetype": "text/x-python",
   "name": "python",
   "nbconvert_exporter": "python",
   "pygments_lexer": "ipython2",
   "version": "2.7.11"
  }
 },
 "nbformat": 4,
 "nbformat_minor": 2
}
