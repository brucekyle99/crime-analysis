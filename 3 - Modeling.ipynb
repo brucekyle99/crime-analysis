{
 "cells": [
  {
   "cell_type": "markdown",
   "metadata": {
    "deletable": true,
    "editable": true
   },
   "source": [
    "## MODELING"
   ]
  },
  {
   "cell_type": "code",
   "execution_count": 1,
   "metadata": {
    "collapsed": true,
    "deletable": true,
    "editable": true
   },
   "outputs": [],
   "source": [
    "import os\n",
    "import sys\n",
    "import numpy\n",
    "import pandas\n",
    "import matplotlib.pyplot as plt\n",
    "sys.path.append(os.path.abspath(\"./util\"))\n",
    "from pymining import itemmining, assocrules\n",
    "from fp_growth import find_frequent_itemsets as get_freq_itemset\n",
    "\n",
    "%matplotlib inline\n",
    "plt.style.use('ggplot')\n",
    "pandas.set_option('display.max_rows', 100, \"display.max_columns\", 100)"
   ]
  },
  {
   "cell_type": "code",
   "execution_count": 2,
   "metadata": {
    "collapsed": false,
    "deletable": true,
    "editable": true
   },
   "outputs": [
    {
     "data": {
      "text/plain": [
       "(2954, 21)"
      ]
     },
     "execution_count": 2,
     "metadata": {},
     "output_type": "execute_result"
    }
   ],
   "source": [
    "df = pandas.read_csv(\"./dataset/crimes_census_5poi_sampled100.csv\", index_col=0, sep=\"\\t\")\n",
    "df.shape"
   ]
  },
  {
   "cell_type": "code",
   "execution_count": 3,
   "metadata": {
    "collapsed": false,
    "deletable": true,
    "editable": true
   },
   "outputs": [
    {
     "data": {
      "text/html": [
       "<div>\n",
       "<table border=\"1\" class=\"dataframe\">\n",
       "  <thead>\n",
       "    <tr style=\"text-align: right;\">\n",
       "      <th></th>\n",
       "      <th>ARPCIncome</th>\n",
       "      <th>ARPerHEdu</th>\n",
       "      <th>ARPerWork</th>\n",
       "      <th>ARPopDen</th>\n",
       "      <th>ARPerAA</th>\n",
       "      <th>NIBRSclass</th>\n",
       "      <th>Place2</th>\n",
       "      <th>Report_Dat</th>\n",
       "    </tr>\n",
       "  </thead>\n",
       "  <tbody>\n",
       "    <tr>\n",
       "      <th>count</th>\n",
       "      <td>2954</td>\n",
       "      <td>2954</td>\n",
       "      <td>2954</td>\n",
       "      <td>2954</td>\n",
       "      <td>2954</td>\n",
       "      <td>2954</td>\n",
       "      <td>2954</td>\n",
       "      <td>2954</td>\n",
       "    </tr>\n",
       "    <tr>\n",
       "      <th>unique</th>\n",
       "      <td>15</td>\n",
       "      <td>15</td>\n",
       "      <td>15</td>\n",
       "      <td>15</td>\n",
       "      <td>13</td>\n",
       "      <td>52</td>\n",
       "      <td>62</td>\n",
       "      <td>36</td>\n",
       "    </tr>\n",
       "    <tr>\n",
       "      <th>top</th>\n",
       "      <td>inc-2/15</td>\n",
       "      <td>edu-10/15</td>\n",
       "      <td>empl-2/15</td>\n",
       "      <td>popden-1/15</td>\n",
       "      <td>afro-1/13</td>\n",
       "      <td>Drug/Narcotic Violations</td>\n",
       "      <td>Private Residence</td>\n",
       "      <td>10-2x</td>\n",
       "    </tr>\n",
       "    <tr>\n",
       "      <th>freq</th>\n",
       "      <td>297</td>\n",
       "      <td>331</td>\n",
       "      <td>369</td>\n",
       "      <td>372</td>\n",
       "      <td>414</td>\n",
       "      <td>100</td>\n",
       "      <td>492</td>\n",
       "      <td>110</td>\n",
       "    </tr>\n",
       "  </tbody>\n",
       "</table>\n",
       "</div>"
      ],
      "text/plain": [
       "       ARPCIncome  ARPerHEdu  ARPerWork     ARPopDen    ARPerAA  \\\n",
       "count        2954       2954       2954         2954       2954   \n",
       "unique         15         15         15           15         13   \n",
       "top      inc-2/15  edu-10/15  empl-2/15  popden-1/15  afro-1/13   \n",
       "freq          297        331        369          372        414   \n",
       "\n",
       "                      NIBRSclass             Place2 Report_Dat  \n",
       "count                       2954               2954       2954  \n",
       "unique                        52                 62         36  \n",
       "top     Drug/Narcotic Violations  Private Residence      10-2x  \n",
       "freq                         100                492        110  "
      ]
     },
     "execution_count": 3,
     "metadata": {},
     "output_type": "execute_result"
    }
   ],
   "source": [
    "df = df.drop([\"BLOCKID10\", \"Street_Nam\", \"ARHeteInx\", \"ARPerM1724\", \"ARPerHOwn\", \"ARPerSF\", \"ARPerRMI5L\", \"ARPer3MU\"], axis=1)\n",
    "df = df.drop([\"First_POI\", \"Second_POI\", \"Third_POI\", \"Fourth_POI\", \"Fifth_POI\"], axis=1)\n",
    "df.describe()"
   ]
  },
  {
   "cell_type": "code",
   "execution_count": 4,
   "metadata": {
    "collapsed": false,
    "deletable": true,
    "editable": true
   },
   "outputs": [],
   "source": [
    "transactions = [row.tolist() for i, row in df.iterrows()]\n",
    "\n",
    "to_tuple   = lambda trans_list: tuple([tuple(trans) for trans in trans_list])\n",
    "percentage = lambda x, tot=len(transactions): (x * 1.0) / tot\n",
    "\n",
    "def only_rules_with(columns, rules, only_cons=False):\n",
    "    list_of_sets = [set(df[column].values) for column in columns]\n",
    "    result = []\n",
    "    for rule in rules:\n",
    "        current_itemset = rule[1] if only_cons else rule[0] | rule[1]\n",
    "        cond = True\n",
    "        for column_set in list_of_sets:\n",
    "            if (current_itemset & column_set) == set():\n",
    "                cond = False\n",
    "        if cond:\n",
    "            result.append(rule)\n",
    "    return result\n",
    "\n",
    "def print_that(filepath, rules):\n",
    "    with open(filepath, 'w+') as result_file:\n",
    "        for rule in rules:\n",
    "            result_file.write(rule_to_string(rule))\n",
    "        \n",
    "def rule_to_string(rule):\n",
    "    return str([j for j in rule[0]]) + \"  ->  \" + str([z for z in rule[1]]) + \\\n",
    "    \", supp: \" + str(rule[2]) + \\\n",
    "    \", conf: \" + str(rule[3]) + \\\n",
    "    \"\\n\"\n"
   ]
  },
  {
   "cell_type": "markdown",
   "metadata": {
    "deletable": true,
    "editable": true
   },
   "source": [
    "## Frequent Itemset generation"
   ]
  },
  {
   "cell_type": "code",
   "execution_count": 5,
   "metadata": {
    "collapsed": true,
    "deletable": true,
    "editable": true
   },
   "outputs": [],
   "source": [
    "min_supp = 10"
   ]
  },
  {
   "cell_type": "markdown",
   "metadata": {
    "deletable": true,
    "editable": true
   },
   "source": [
    "#### Relim\n",
    "[Paper 1](https://pdfs.semanticscholar.org/cb3e/76d1773d08545f21daf28cc87b051604aa95.pdf)\n",
    "[Paper 2](http://www.borgelt.net/papers/relim.pdf)"
   ]
  },
  {
   "cell_type": "code",
   "execution_count": 6,
   "metadata": {
    "collapsed": false,
    "deletable": true,
    "editable": true
   },
   "outputs": [
    {
     "name": "stdout",
     "output_type": "stream",
     "text": [
      "number of frequent itemsets 5304 \n",
      "\n",
      "CPU times: user 360 ms, sys: 24 ms, total: 384 ms\n",
      "Wall time: 356 ms\n"
     ]
    }
   ],
   "source": [
    "%%time\n",
    "relim_input = itemmining.get_relim_input(to_tuple(transactions))\n",
    "relim_itemsets = itemmining.relim(relim_input, min_support=min_supp)\n",
    "print \"number of frequent itemsets\", len(relim_itemsets), \"\\n\""
   ]
  },
  {
   "cell_type": "markdown",
   "metadata": {
    "deletable": true,
    "editable": true
   },
   "source": [
    "#### FP-Growth"
   ]
  },
  {
   "cell_type": "code",
   "execution_count": 7,
   "metadata": {
    "collapsed": true,
    "deletable": true,
    "editable": true,
    "slideshow": {
     "slide_type": "-"
    }
   },
   "outputs": [],
   "source": [
    "# %%time\n",
    "# freq_item_generator = get_freq_itemset(transactions, min_supp, include_support=True)\n",
    "# \n",
    "# fp_itemsets = {frozenset(itemset[0]): itemset[1] for itemset in freq_item_generator}\n",
    "# print \"number of frequent itemsets\", len(fp_itemsets), \"\\n\""
   ]
  },
  {
   "cell_type": "code",
   "execution_count": 8,
   "metadata": {
    "collapsed": true,
    "deletable": true,
    "editable": true
   },
   "outputs": [],
   "source": [
    "# pruned_itemsets = only_itemset_with(\"NIBRSclass\", relim_itemsets)\n",
    "# len(pruned_itemsets)"
   ]
  },
  {
   "cell_type": "markdown",
   "metadata": {
    "deletable": true,
    "editable": true
   },
   "source": [
    "## Rule generation"
   ]
  },
  {
   "cell_type": "code",
   "execution_count": 9,
   "metadata": {
    "collapsed": true,
    "deletable": true,
    "editable": true
   },
   "outputs": [],
   "source": [
    "min_conf = 0.60"
   ]
  },
  {
   "cell_type": "code",
   "execution_count": 10,
   "metadata": {
    "collapsed": false,
    "deletable": true,
    "editable": true
   },
   "outputs": [
    {
     "name": "stdout",
     "output_type": "stream",
     "text": [
      "18161\n",
      "CPU times: user 272 ms, sys: 48 ms, total: 320 ms\n",
      "Wall time: 288 ms\n"
     ]
    }
   ],
   "source": [
    "%%time\n",
    "rules = assocrules.mine_assoc_rules(relim_itemsets, min_support=min_supp, min_confidence=min_conf)\n",
    "print len(rules)"
   ]
  },
  {
   "cell_type": "markdown",
   "metadata": {
    "deletable": true,
    "editable": true
   },
   "source": [
    "#### Rules exploration"
   ]
  },
  {
   "cell_type": "code",
   "execution_count": 11,
   "metadata": {
    "collapsed": false,
    "deletable": true,
    "editable": true
   },
   "outputs": [
    {
     "name": "stdout",
     "output_type": "stream",
     "text": [
      "6277\n",
      "705\n"
     ]
    }
   ],
   "source": [
    "# leaving only rules that have crimes\n",
    "rules_with_crimes = only_rules_with([\"NIBRSclass\"], rules)\n",
    "rules_with_crimes_in_cons = only_rules_with([\"NIBRSclass\"], rules, only_cons=True)\n",
    "print len(rules_with_crimes)\n",
    "print len(rules_with_crimes_in_cons)"
   ]
  },
  {
   "cell_type": "code",
   "execution_count": 12,
   "metadata": {
    "collapsed": true,
    "deletable": true,
    "editable": true
   },
   "outputs": [],
   "source": [
    "print_that('./dataset/result_file.txt', rules_with_crimes)\n",
    "print_that('./dataset/result_file_only_cons.txt', rules_with_crimes_in_cons)"
   ]
  },
  {
   "cell_type": "code",
   "execution_count": 13,
   "metadata": {
    "collapsed": false,
    "deletable": true,
    "editable": true,
    "scrolled": true
   },
   "outputs": [
    {
     "data": {
      "text/plain": [
       "[(frozenset({'Forcible Fondling',\n",
       "             'Private Residence',\n",
       "             'afro-11/13',\n",
       "             'edu-15/15',\n",
       "             'inc-2/15',\n",
       "             'popden-3/15'}),\n",
       "  frozenset({'empl-2/15'}),\n",
       "  13,\n",
       "  1.0)]"
      ]
     },
     "execution_count": 13,
     "metadata": {},
     "output_type": "execute_result"
    }
   ],
   "source": [
    "rules_with_crimes[:1]"
   ]
  },
  {
   "cell_type": "code",
   "execution_count": 14,
   "metadata": {
    "collapsed": false,
    "deletable": true,
    "editable": true,
    "scrolled": true
   },
   "outputs": [
    {
     "data": {
      "text/plain": [
       "[(frozenset({'School - Primary or Secondary', 'edu-13/15'}),\n",
       "  frozenset({'Disorderly Conduct', 'popden-1/15'}),\n",
       "  23,\n",
       "  0.6764705882352942),\n",
       " (frozenset({'School - Primary or Secondary', 'edu-13/15', 'popden-1/15'}),\n",
       "  frozenset({'Disorderly Conduct'}),\n",
       "  23,\n",
       "  0.6764705882352942),\n",
       " (frozenset({'Gas Station', 'inc-8/15', 'popden-5/15'}),\n",
       "  frozenset({'Prostitution'}),\n",
       "  12,\n",
       "  0.6666666666666666),\n",
       " (frozenset({'Gas Station', 'inc-8/15'}),\n",
       "  frozenset({'Prostitution', 'popden-5/15'}),\n",
       "  12,\n",
       "  0.6666666666666666),\n",
       " (frozenset({'Private Residence', 'afro-11/13', 'edu-15/15'}),\n",
       "  frozenset({'Forcible Fondling'}),\n",
       "  13,\n",
       "  0.65),\n",
       " (frozenset({'Department Store', 'inc-13/15'}),\n",
       "  frozenset({'Shoplifting', 'empl-12/15'}),\n",
       "  12,\n",
       "  0.75),\n",
       " (frozenset({'Department Store', 'empl-12/15', 'inc-13/15'}),\n",
       "  frozenset({'Shoplifting'}),\n",
       "  12,\n",
       "  0.75),\n",
       " (frozenset({'Department Store', 'empl-12/15'}),\n",
       "  frozenset({'Shoplifting', 'inc-13/15'}),\n",
       "  12,\n",
       "  0.75),\n",
       " (frozenset({'Other - Commercial Place', 'edu-6/15'}),\n",
       "  frozenset({'False Pretenses/Swindle'}),\n",
       "  10,\n",
       "  0.6666666666666666),\n",
       " (frozenset({'School - Primary or Secondary', 'empl-1/15'}),\n",
       "  frozenset({'Disorderly Conduct'}),\n",
       "  23,\n",
       "  0.6571428571428571),\n",
       " (frozenset({'Department Store', 'popden-2/15'}),\n",
       "  frozenset({'Shoplifting'}),\n",
       "  12,\n",
       "  0.75),\n",
       " (frozenset({'Gas Station', 'empl-6/15'}),\n",
       "  frozenset({'Prostitution'}),\n",
       "  13,\n",
       "  0.6190476190476191),\n",
       " (frozenset({'School - Primary or Secondary', 'edu-13/15'}),\n",
       "  frozenset({'Disorderly Conduct'}),\n",
       "  23,\n",
       "  0.6764705882352942),\n",
       " (frozenset({'Department Store', 'afro-2/13'}),\n",
       "  frozenset({'Shoplifting'}),\n",
       "  12,\n",
       "  0.75),\n",
       " (frozenset({'Department Store', 'inc-13/15'}),\n",
       "  frozenset({'Shoplifting'}),\n",
       "  12,\n",
       "  0.75),\n",
       " (frozenset({'Department Store', 'empl-12/15'}),\n",
       "  frozenset({'Shoplifting'}),\n",
       "  12,\n",
       "  0.75),\n",
       " (frozenset({'Gas Station', 'inc-8/15'}),\n",
       "  frozenset({'Prostitution'}),\n",
       "  12,\n",
       "  0.6666666666666666),\n",
       " (frozenset({'Department Store', 'edu-8/15'}),\n",
       "  frozenset({'Shoplifting'}),\n",
       "  20,\n",
       "  0.6451612903225806),\n",
       " (frozenset({'ATM'}),\n",
       "  frozenset({'Credit Card/Teller Fraud'}),\n",
       "  15,\n",
       "  0.8823529411764706),\n",
       " (frozenset({'Financial Institution'}),\n",
       "  frozenset({'Counterfeiting/Forgery'}),\n",
       "  25,\n",
       "  0.625)]"
      ]
     },
     "execution_count": 14,
     "metadata": {},
     "output_type": "execute_result"
    }
   ],
   "source": [
    "rules_with_crimes_in_cons[-20:]"
   ]
  },
  {
   "cell_type": "markdown",
   "metadata": {
    "deletable": true,
    "editable": true
   },
   "source": [
    "---"
   ]
  },
  {
   "cell_type": "markdown",
   "metadata": {
    "deletable": true,
    "editable": true
   },
   "source": [
    "### Entire dataset"
   ]
  },
  {
   "cell_type": "code",
   "execution_count": 15,
   "metadata": {
    "collapsed": false,
    "deletable": true,
    "editable": true
   },
   "outputs": [
    {
     "data": {
      "text/plain": [
       "(19106, 10)"
      ]
     },
     "execution_count": 15,
     "metadata": {},
     "output_type": "execute_result"
    }
   ],
   "source": [
    "df_entire = pandas.read_csv(\"./dataset/crimes_census_5poi.csv\", index_col=0, sep=\"\\t\")\n",
    "df_entire = df_entire.drop([\"BLOCKID10\", \"Street_Nam\", \"ARHeteInx\", \"ARPerHOwn\", \n",
    "                            \"ARPerRMI5L\", \"ARPer3MU\"], axis=1)\n",
    "df_entire = df_entire.drop([\"First_POI\", \"Second_POI\", \"Third_POI\", \"Fourth_POI\", \"Fifth_POI\"], axis=1)\n",
    "\n",
    "transactions_entire = [row.tolist() for i, row in df_entire.iterrows()]\n",
    "df_entire.shape"
   ]
  },
  {
   "cell_type": "code",
   "execution_count": 16,
   "metadata": {
    "collapsed": false,
    "deletable": true,
    "editable": true
   },
   "outputs": [
    {
     "name": "stdout",
     "output_type": "stream",
     "text": [
      "CPU times: user 0 ns, sys: 0 ns, total: 0 ns\n",
      "Wall time: 10 µs\n",
      "number of frequent itemsets 13914 \n",
      "\n"
     ]
    }
   ],
   "source": [
    "%time\n",
    "min_supp = 70\n",
    "relim_input_entire = itemmining.get_relim_input(to_tuple(transactions_entire))\n",
    "relim_itemsets_entire = itemmining.relim(relim_input_entire, min_support=min_supp)\n",
    "print \"number of frequent itemsets\", len(relim_itemsets_entire), \"\\n\""
   ]
  },
  {
   "cell_type": "code",
   "execution_count": 17,
   "metadata": {
    "collapsed": false,
    "deletable": true,
    "editable": true
   },
   "outputs": [
    {
     "name": "stdout",
     "output_type": "stream",
     "text": [
      "129892\n"
     ]
    }
   ],
   "source": [
    "min_conf = 0.60\n",
    "rules_entire = assocrules.mine_assoc_rules(relim_itemsets_entire, min_support=min_supp, min_confidence=min_conf)\n",
    "print len(rules_entire)"
   ]
  },
  {
   "cell_type": "code",
   "execution_count": 18,
   "metadata": {
    "collapsed": false,
    "deletable": true,
    "editable": true
   },
   "outputs": [
    {
     "name": "stdout",
     "output_type": "stream",
     "text": [
      "29689\n",
      "1843\n"
     ]
    }
   ],
   "source": [
    "rules_with_crimes_entire = only_rules_with([\"NIBRSclass\"], rules_entire)\n",
    "rules_with_crimes_in_cons_entire = only_rules_with([\"NIBRSclass\"], rules_entire, only_cons=True)\n",
    "print len(rules_with_crimes_entire)\n",
    "print len(rules_with_crimes_in_cons_entire)"
   ]
  },
  {
   "cell_type": "code",
   "execution_count": 45,
   "metadata": {
    "collapsed": false
   },
   "outputs": [
    {
     "data": {
      "text/plain": [
       "[(frozenset({'Department Store',\n",
       "             'afro-2/13',\n",
       "             'edu-8/15',\n",
       "             'empl-12/15',\n",
       "             'inc-13/15',\n",
       "             'popden-2/15',\n",
       "             'sinpar-1/15',\n",
       "             'youngm-2/14'}),\n",
       "  frozenset({'Shoplifting'}),\n",
       "  78,\n",
       "  0.8387096774193549)]"
      ]
     },
     "execution_count": 45,
     "metadata": {},
     "output_type": "execute_result"
    }
   ],
   "source": [
    "rules_with_crimes_in_cons_entire[:1]"
   ]
  },
  {
   "cell_type": "markdown",
   "metadata": {},
   "source": [
    "---\n",
    "### Evaluation"
   ]
  },
  {
   "cell_type": "code",
   "execution_count": 40,
   "metadata": {
    "collapsed": false
   },
   "outputs": [],
   "source": [
    "lift = lambda rule_supp, ant_supp, cons_supp: (rule_supp / 1.0) / (ant_supp * cons_supp)\n",
    "\n",
    "for rule in rules_with_crimes:\n",
    "    print lift(relim_itemsets[rule[0] | rule[1]], relim_itemsets[rule[0]], relim_itemsets[rule[1]])"
   ]
  }
 ],
 "metadata": {
  "kernelspec": {
   "display_name": "Python 2",
   "language": "python",
   "name": "python2"
  },
  "language_info": {
   "codemirror_mode": {
    "name": "ipython",
    "version": 2
   },
   "file_extension": ".py",
   "mimetype": "text/x-python",
   "name": "python",
   "nbconvert_exporter": "python",
   "pygments_lexer": "ipython2",
   "version": "2.7.13"
  }
 },
 "nbformat": 4,
 "nbformat_minor": 2
}
