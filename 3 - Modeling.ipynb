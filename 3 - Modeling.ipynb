{
 "cells": [
  {
   "cell_type": "markdown",
   "metadata": {},
   "source": [
    "## MODELING"
   ]
  },
  {
   "cell_type": "code",
   "execution_count": 1,
   "metadata": {
    "collapsed": true
   },
   "outputs": [],
   "source": [
    "import os\n",
    "import sys\n",
    "import numpy\n",
    "import pandas\n",
    "import matplotlib.pyplot as plt\n",
    "sys.path.append(os.path.abspath(\"./util\"))\n",
    "from pymining import itemmining, assocrules\n",
    "from fp_growth import find_frequent_itemsets as get_freq_itemset\n",
    "\n",
    "%matplotlib inline\n",
    "plt.style.use('ggplot')\n",
    "pandas.set_option('display.max_rows', 10000, \"display.max_columns\", 100)"
   ]
  },
  {
   "cell_type": "code",
   "execution_count": 2,
   "metadata": {},
   "outputs": [
    {
     "data": {
      "text/plain": [
       "(2954, 21)"
      ]
     },
     "execution_count": 2,
     "metadata": {},
     "output_type": "execute_result"
    }
   ],
   "source": [
    "df = pandas.read_csv(\"./dataset/crimes_census_5poi_sampled100.csv\", index_col=0, sep=\"\\t\")\n",
    "df.shape"
   ]
  },
  {
   "cell_type": "code",
   "execution_count": 3,
   "metadata": {
    "scrolled": true
   },
   "outputs": [
    {
     "data": {
      "text/html": [
       "<div>\n",
       "<table border=\"1\" class=\"dataframe\">\n",
       "  <thead>\n",
       "    <tr style=\"text-align: right;\">\n",
       "      <th></th>\n",
       "      <th>ARPCIncome</th>\n",
       "      <th>ARPerHEdu</th>\n",
       "      <th>ARPerWork</th>\n",
       "      <th>ARPopDen</th>\n",
       "      <th>ARPerAA</th>\n",
       "      <th>ARPerM1724</th>\n",
       "      <th>ARPerSF</th>\n",
       "      <th>NIBRSclass</th>\n",
       "      <th>Place2</th>\n",
       "      <th>Report_Dat</th>\n",
       "    </tr>\n",
       "  </thead>\n",
       "  <tbody>\n",
       "    <tr>\n",
       "      <th>count</th>\n",
       "      <td>2954</td>\n",
       "      <td>2954</td>\n",
       "      <td>2954</td>\n",
       "      <td>2954</td>\n",
       "      <td>2954</td>\n",
       "      <td>2954</td>\n",
       "      <td>2954</td>\n",
       "      <td>2954</td>\n",
       "      <td>2954</td>\n",
       "      <td>2954</td>\n",
       "    </tr>\n",
       "    <tr>\n",
       "      <th>unique</th>\n",
       "      <td>3</td>\n",
       "      <td>3</td>\n",
       "      <td>3</td>\n",
       "      <td>3</td>\n",
       "      <td>3</td>\n",
       "      <td>3</td>\n",
       "      <td>3</td>\n",
       "      <td>52</td>\n",
       "      <td>61</td>\n",
       "      <td>36</td>\n",
       "    </tr>\n",
       "    <tr>\n",
       "      <th>top</th>\n",
       "      <td>inc-1/3</td>\n",
       "      <td>edu-2/3</td>\n",
       "      <td>empl-1/3</td>\n",
       "      <td>popden-3/3</td>\n",
       "      <td>afro-3/3</td>\n",
       "      <td>youngm-2/3</td>\n",
       "      <td>sinpar-3/3</td>\n",
       "      <td>Drug/Narcotic Violations</td>\n",
       "      <td>Private Residence</td>\n",
       "      <td>09-2x</td>\n",
       "    </tr>\n",
       "    <tr>\n",
       "      <th>freq</th>\n",
       "      <td>1080</td>\n",
       "      <td>1127</td>\n",
       "      <td>1117</td>\n",
       "      <td>1172</td>\n",
       "      <td>1082</td>\n",
       "      <td>1079</td>\n",
       "      <td>1071</td>\n",
       "      <td>100</td>\n",
       "      <td>491</td>\n",
       "      <td>117</td>\n",
       "    </tr>\n",
       "  </tbody>\n",
       "</table>\n",
       "</div>"
      ],
      "text/plain": [
       "       ARPCIncome ARPerHEdu ARPerWork    ARPopDen   ARPerAA  ARPerM1724  \\\n",
       "count        2954      2954      2954        2954      2954        2954   \n",
       "unique          3         3         3           3         3           3   \n",
       "top       inc-1/3   edu-2/3  empl-1/3  popden-3/3  afro-3/3  youngm-2/3   \n",
       "freq         1080      1127      1117        1172      1082        1079   \n",
       "\n",
       "           ARPerSF                NIBRSclass             Place2 Report_Dat  \n",
       "count         2954                      2954               2954       2954  \n",
       "unique           3                        52                 61         36  \n",
       "top     sinpar-3/3  Drug/Narcotic Violations  Private Residence      09-2x  \n",
       "freq          1071                       100                491        117  "
      ]
     },
     "execution_count": 3,
     "metadata": {},
     "output_type": "execute_result"
    }
   ],
   "source": [
    "## df = df.drop([\"BLOCKID10\", \"Street_Nam\", \"ARHeteInx\", \"ARPerM1724\", \"ARPerHOwn\", \"ARPerSF\", \"ARPerRMI5L\", \"ARPer3MU\"], axis=1)\n",
    "df = df.drop([\"BLOCKID10\", \"Street_Nam\", \"ARPerRMI5L\", \"ARPer3MU\", \"ARHeteInx\", \"ARPerHOwn\"], axis=1)\n",
    "# df = df.drop([\"ARPopDen\", \"ARPerAA\", \"ARPerM1724\", \"ARPerSF\"], axis=1)\n",
    "df = df.drop([\"First_POI\", \"Second_POI\", \"Third_POI\", \"Fourth_POI\", \"Fifth_POI\"], axis=1)\n",
    "df.describe()"
   ]
  },
  {
   "cell_type": "code",
   "execution_count": 29,
   "metadata": {},
   "outputs": [
    {
     "data": {
      "text/plain": [
       "88"
      ]
     },
     "execution_count": 29,
     "metadata": {},
     "output_type": "execute_result"
    }
   ],
   "source": [
    "attr = \"Forcible Fondling\"\n",
    "l = [i for i in df[\"NIBRSclass\"].values if i == attr]\n",
    "len(l)"
   ]
  },
  {
   "cell_type": "code",
   "execution_count": 13,
   "metadata": {
    "collapsed": true
   },
   "outputs": [],
   "source": [
    "transactions = [row.tolist() for i, row in df.iterrows()]\n",
    "\n",
    "to_tuple   = lambda trans_list: tuple([tuple(trans) for trans in trans_list])\n",
    "percentage = lambda x, tot=len(transactions): (x * 1.0) / tot\n",
    "\n",
    "def only_rules_with(columns, rules, only_cons=False):\n",
    "    list_of_sets = [set(df_entire[column].values) for column in columns]\n",
    "    result = []\n",
    "    for rule in rules:\n",
    "        current_itemset = rule[1] if only_cons else rule[0] | rule[1]\n",
    "        cond = True\n",
    "        for column_set in list_of_sets:\n",
    "            if (current_itemset & column_set) == set():\n",
    "                cond = False\n",
    "        if cond:\n",
    "            result.append(rule)\n",
    "    return result\n",
    "\n",
    "def print_that(filepath, rules):\n",
    "    with open(filepath, 'w+') as result_file:\n",
    "        for rule in rules:\n",
    "            result_file.write(rule_to_string(rule))\n",
    "        \n",
    "def rule_to_string(rule):\n",
    "    return str([j for j in rule[0]]) + \"  ->  \" + str([z for z in rule[1]]) + \\\n",
    "    \", supp: \" + str(rule[2]) + \\\n",
    "    \", conf: \" + str(rule[3]) + \\\n",
    "    \"\\n\"\n"
   ]
  },
  {
   "cell_type": "markdown",
   "metadata": {},
   "source": [
    "## Frequent Itemset generation"
   ]
  },
  {
   "cell_type": "code",
   "execution_count": 5,
   "metadata": {
    "collapsed": true
   },
   "outputs": [],
   "source": [
    "min_supp = 10"
   ]
  },
  {
   "cell_type": "markdown",
   "metadata": {},
   "source": [
    "#### Relim\n",
    "[Paper 1](https://pdfs.semanticscholar.org/cb3e/76d1773d08545f21daf28cc87b051604aa95.pdf)\n",
    "[Paper 2](http://www.borgelt.net/papers/relim.pdf)"
   ]
  },
  {
   "cell_type": "code",
   "execution_count": 6,
   "metadata": {},
   "outputs": [
    {
     "name": "stdout",
     "output_type": "stream",
     "text": [
      "number of frequent itemsets 28827 \n",
      "\n"
     ]
    }
   ],
   "source": [
    "# %%time\n",
    "relim_input = itemmining.get_relim_input(to_tuple(transactions))\n",
    "relim_itemsets = itemmining.relim(relim_input, min_support=min_supp)\n",
    "print \"number of frequent itemsets\", len(relim_itemsets), \"\\n\""
   ]
  },
  {
   "cell_type": "markdown",
   "metadata": {},
   "source": [
    "#### FP-Growth"
   ]
  },
  {
   "cell_type": "code",
   "execution_count": 7,
   "metadata": {
    "collapsed": true,
    "slideshow": {
     "slide_type": "-"
    }
   },
   "outputs": [],
   "source": [
    "## %%time\n",
    "## freq_item_generator = get_freq_itemset(transactions, min_supp, include_support=True)\n",
    "## \n",
    "## fp_itemsets = {frozenset(itemset[0]): itemset[1] for itemset in freq_item_generator}\n",
    "## print \"number of frequent itemsets\", len(fp_itemsets), \"\\n\""
   ]
  },
  {
   "cell_type": "code",
   "execution_count": 8,
   "metadata": {
    "collapsed": true
   },
   "outputs": [],
   "source": [
    "## pruned_itemsets = only_itemset_with(\"NIBRSclass\", relim_itemsets)\n",
    "## len(pruned_itemsets)"
   ]
  },
  {
   "cell_type": "markdown",
   "metadata": {},
   "source": [
    "## Rule generation"
   ]
  },
  {
   "cell_type": "code",
   "execution_count": 9,
   "metadata": {
    "collapsed": true
   },
   "outputs": [],
   "source": [
    "min_conf = 0.60"
   ]
  },
  {
   "cell_type": "code",
   "execution_count": 10,
   "metadata": {},
   "outputs": [
    {
     "name": "stdout",
     "output_type": "stream",
     "text": [
      "131497\n",
      "CPU times: user 2.6 s, sys: 120 ms, total: 2.72 s\n",
      "Wall time: 2.72 s\n"
     ]
    }
   ],
   "source": [
    "%%time\n",
    "rules = assocrules.mine_assoc_rules(relim_itemsets, min_support=min_supp, min_confidence=min_conf)\n",
    "print len(rules)"
   ]
  },
  {
   "cell_type": "markdown",
   "metadata": {},
   "source": [
    "#### Rules exploration"
   ]
  },
  {
   "cell_type": "code",
   "execution_count": 11,
   "metadata": {},
   "outputs": [
    {
     "name": "stdout",
     "output_type": "stream",
     "text": [
      "49385\n",
      "2064\n"
     ]
    }
   ],
   "source": [
    "# leaving only rules that have crimes\n",
    "rules_with_crimes = only_rules_with([\"NIBRSclass\"], rules)\n",
    "rules_with_crimes_in_cons = only_rules_with([\"NIBRSclass\"], rules, only_cons=True)\n",
    "print len(rules_with_crimes)\n",
    "print len(rules_with_crimes_in_cons)"
   ]
  },
  {
   "cell_type": "code",
   "execution_count": null,
   "metadata": {
    "collapsed": true
   },
   "outputs": [],
   "source": []
  },
  {
   "cell_type": "code",
   "execution_count": null,
   "metadata": {
    "collapsed": true
   },
   "outputs": [],
   "source": []
  },
  {
   "cell_type": "code",
   "execution_count": null,
   "metadata": {
    "collapsed": true,
    "scrolled": true
   },
   "outputs": [],
   "source": [
    "for i in rules_with_crimes_in_cons:\n",
    "    print i, \"\\n\\n\""
   ]
  },
  {
   "cell_type": "code",
   "execution_count": null,
   "metadata": {
    "collapsed": true
   },
   "outputs": [],
   "source": []
  },
  {
   "cell_type": "code",
   "execution_count": null,
   "metadata": {
    "collapsed": true
   },
   "outputs": [],
   "source": []
  },
  {
   "cell_type": "code",
   "execution_count": null,
   "metadata": {
    "collapsed": true
   },
   "outputs": [],
   "source": []
  },
  {
   "cell_type": "code",
   "execution_count": 13,
   "metadata": {
    "collapsed": true
   },
   "outputs": [],
   "source": [
    "# print_that('./dataset/result_file.txt', rules_with_crimes)\n",
    "# print_that('./dataset/result_file_only_cons.txt', rules_with_crimes_in_cons)"
   ]
  },
  {
   "cell_type": "code",
   "execution_count": 14,
   "metadata": {
    "collapsed": true,
    "scrolled": true
   },
   "outputs": [],
   "source": [
    "# rules_with_crimes[:1]"
   ]
  },
  {
   "cell_type": "code",
   "execution_count": 15,
   "metadata": {
    "collapsed": true,
    "scrolled": true
   },
   "outputs": [],
   "source": [
    "# rules_with_crimes_in_cons[:]"
   ]
  },
  {
   "cell_type": "markdown",
   "metadata": {},
   "source": [
    "---"
   ]
  },
  {
   "cell_type": "markdown",
   "metadata": {},
   "source": [
    "### Entire dataset"
   ]
  },
  {
   "cell_type": "code",
   "execution_count": 23,
   "metadata": {},
   "outputs": [
    {
     "data": {
      "text/plain": [
       "(19106, 6)"
      ]
     },
     "execution_count": 23,
     "metadata": {},
     "output_type": "execute_result"
    }
   ],
   "source": [
    "df_entire = pandas.read_csv(\"./dataset/crimes_census_5poi.csv\", index_col=0, sep=\"\\t\")\n",
    "\n",
    "df_entire = df_entire.drop([\"BLOCKID10\", \"Street_Nam\", \"ARHeteInx\", \"ARPerHOwn\", \n",
    "                            \"ARPerRMI5L\", \"ARPer3MU\"], axis=1)\n",
    "df_entire = df_entire.drop([\"First_POI\", \"Second_POI\", \"Third_POI\", \"Fourth_POI\", \"Fifth_POI\"], axis=1)\n",
    "df_entire = df_entire.drop([\"ARPopDen\", \"ARPerAA\", \"ARPerM1724\", \"ARPerSF\"], axis=1)\n",
    "\n",
    "transactions_entire = [row.tolist() for i, row in df_entire.iterrows()]\n",
    "df_entire.shape"
   ]
  },
  {
   "cell_type": "code",
   "execution_count": 24,
   "metadata": {},
   "outputs": [
    {
     "data": {
      "text/html": [
       "<div>\n",
       "<table border=\"1\" class=\"dataframe\">\n",
       "  <thead>\n",
       "    <tr style=\"text-align: right;\">\n",
       "      <th></th>\n",
       "      <th>ARPCIncome</th>\n",
       "      <th>ARPerHEdu</th>\n",
       "      <th>ARPerWork</th>\n",
       "      <th>NIBRSclass</th>\n",
       "      <th>Place2</th>\n",
       "      <th>Report_Dat</th>\n",
       "    </tr>\n",
       "  </thead>\n",
       "  <tbody>\n",
       "    <tr>\n",
       "      <th>count</th>\n",
       "      <td>19106</td>\n",
       "      <td>19106</td>\n",
       "      <td>19106</td>\n",
       "      <td>19106</td>\n",
       "      <td>19106</td>\n",
       "      <td>19106</td>\n",
       "    </tr>\n",
       "    <tr>\n",
       "      <th>unique</th>\n",
       "      <td>7</td>\n",
       "      <td>7</td>\n",
       "      <td>7</td>\n",
       "      <td>52</td>\n",
       "      <td>67</td>\n",
       "      <td>36</td>\n",
       "    </tr>\n",
       "    <tr>\n",
       "      <th>top</th>\n",
       "      <td>inc-1/7</td>\n",
       "      <td>edu-6/7</td>\n",
       "      <td>empl-1/7</td>\n",
       "      <td>Theft From Motor Vehicle</td>\n",
       "      <td>Private Residence</td>\n",
       "      <td>07-2x</td>\n",
       "    </tr>\n",
       "    <tr>\n",
       "      <th>freq</th>\n",
       "      <td>2967</td>\n",
       "      <td>2828</td>\n",
       "      <td>3183</td>\n",
       "      <td>2523</td>\n",
       "      <td>3950</td>\n",
       "      <td>684</td>\n",
       "    </tr>\n",
       "  </tbody>\n",
       "</table>\n",
       "</div>"
      ],
      "text/plain": [
       "       ARPCIncome ARPerHEdu ARPerWork                NIBRSclass  \\\n",
       "count       19106     19106     19106                     19106   \n",
       "unique          7         7         7                        52   \n",
       "top       inc-1/7   edu-6/7  empl-1/7  Theft From Motor Vehicle   \n",
       "freq         2967      2828      3183                      2523   \n",
       "\n",
       "                   Place2 Report_Dat  \n",
       "count               19106      19106  \n",
       "unique                 67         36  \n",
       "top     Private Residence      07-2x  \n",
       "freq                 3950        684  "
      ]
     },
     "execution_count": 24,
     "metadata": {},
     "output_type": "execute_result"
    }
   ],
   "source": [
    "df_entire.describe()"
   ]
  },
  {
   "cell_type": "code",
   "execution_count": 25,
   "metadata": {
    "collapsed": true
   },
   "outputs": [],
   "source": [
    "min_supp = 70"
   ]
  },
  {
   "cell_type": "code",
   "execution_count": 26,
   "metadata": {},
   "outputs": [
    {
     "name": "stdout",
     "output_type": "stream",
     "text": [
      "CPU times: user 1e+03 ns, sys: 1 µs, total: 2 µs\n",
      "Wall time: 4.05 µs\n",
      "number of frequent itemsets 2008 \n",
      "\n"
     ]
    }
   ],
   "source": [
    "%time\n",
    "relim_input_entire = itemmining.get_relim_input(to_tuple(transactions_entire))\n",
    "relim_itemsets_entire = itemmining.relim(relim_input_entire, min_support=min_supp)\n",
    "print \"number of frequent itemsets\", len(relim_itemsets_entire), \"\\n\""
   ]
  },
  {
   "cell_type": "code",
   "execution_count": 27,
   "metadata": {
    "collapsed": true
   },
   "outputs": [],
   "source": [
    "min_conf = 0.60"
   ]
  },
  {
   "cell_type": "code",
   "execution_count": 28,
   "metadata": {},
   "outputs": [
    {
     "name": "stdout",
     "output_type": "stream",
     "text": [
      "540\n",
      "CPU times: user 48 ms, sys: 7.17 ms, total: 55.1 ms\n",
      "Wall time: 50.7 ms\n"
     ]
    }
   ],
   "source": [
    "%%time\n",
    "rules_entire = assocrules.mine_assoc_rules(relim_itemsets_entire, min_support=min_supp, min_confidence=min_conf)\n",
    "print len(rules_entire)"
   ]
  },
  {
   "cell_type": "code",
   "execution_count": 29,
   "metadata": {},
   "outputs": [
    {
     "name": "stdout",
     "output_type": "stream",
     "text": [
      "170\n",
      "12\n"
     ]
    }
   ],
   "source": [
    "rules_with_crimes_entire = only_rules_with([\"NIBRSclass\"], rules_entire)\n",
    "rules_with_crimes_in_cons_entire = only_rules_with([\"NIBRSclass\"], rules_entire, only_cons=True)\n",
    "print len(rules_with_crimes_entire)\n",
    "print len(rules_with_crimes_in_cons_entire)"
   ]
  },
  {
   "cell_type": "code",
   "execution_count": null,
   "metadata": {
    "collapsed": true
   },
   "outputs": [],
   "source": []
  },
  {
   "cell_type": "code",
   "execution_count": 34,
   "metadata": {},
   "outputs": [
    {
     "data": {
      "text/plain": [
       "1996"
      ]
     },
     "execution_count": 34,
     "metadata": {},
     "output_type": "execute_result"
    }
   ],
   "source": [
    "attr = \"Simple Assault\"\n",
    "l = [i for i in df_entire[\"NIBRSclass\"].values if i == attr]\n",
    "len(l)"
   ]
  },
  {
   "cell_type": "code",
   "execution_count": null,
   "metadata": {
    "collapsed": true
   },
   "outputs": [],
   "source": []
  },
  {
   "cell_type": "code",
   "execution_count": null,
   "metadata": {
    "collapsed": true
   },
   "outputs": [],
   "source": [
    "for i in rules_with_crimes_in_cons_entire:\n",
    "    print i, \"\\n\\n\""
   ]
  },
  {
   "cell_type": "markdown",
   "metadata": {},
   "source": [
    "---\n",
    "### Evaluation"
   ]
  },
  {
   "cell_type": "code",
   "execution_count": 25,
   "metadata": {
    "collapsed": true
   },
   "outputs": [],
   "source": [
    "def lift(rule_supp, ant_supp, cons_supp):\n",
    "    return (rule_supp / 1.0) / (ant_supp * cons_supp)\n",
    "\n",
    "def conviction(cons_supp, rule_conf):\n",
    "    return (1.0 - cons_supp) / (1.0 - rule_conf)"
   ]
  },
  {
   "cell_type": "code",
   "execution_count": 26,
   "metadata": {},
   "outputs": [
    {
     "ename": "NameError",
     "evalue": "name 'rules' is not defined",
     "output_type": "error",
     "traceback": [
      "\u001b[0;31m---------------------------------------------------------------------------\u001b[0m",
      "\u001b[0;31mNameError\u001b[0m                                 Traceback (most recent call last)",
      "\u001b[0;32m<ipython-input-26-0e7bf264b555>\u001b[0m in \u001b[0;36m<module>\u001b[0;34m()\u001b[0m\n\u001b[0;32m----> 1\u001b[0;31m \u001b[0;32mfor\u001b[0m \u001b[0mrule\u001b[0m \u001b[0;32min\u001b[0m \u001b[0mrules\u001b[0m\u001b[0;34m:\u001b[0m\u001b[0;34m\u001b[0m\u001b[0m\n\u001b[0m\u001b[1;32m      2\u001b[0m     \u001b[0ml\u001b[0m \u001b[0;34m=\u001b[0m \u001b[0mlift\u001b[0m\u001b[0;34m(\u001b[0m\u001b[0mrelim_itemsets\u001b[0m\u001b[0;34m[\u001b[0m\u001b[0mrule\u001b[0m\u001b[0;34m[\u001b[0m\u001b[0;36m0\u001b[0m\u001b[0;34m]\u001b[0m \u001b[0;34m|\u001b[0m \u001b[0mrule\u001b[0m\u001b[0;34m[\u001b[0m\u001b[0;36m1\u001b[0m\u001b[0;34m]\u001b[0m\u001b[0;34m]\u001b[0m\u001b[0;34m,\u001b[0m \u001b[0mrelim_itemsets\u001b[0m\u001b[0;34m[\u001b[0m\u001b[0mrule\u001b[0m\u001b[0;34m[\u001b[0m\u001b[0;36m0\u001b[0m\u001b[0;34m]\u001b[0m\u001b[0;34m]\u001b[0m\u001b[0;34m,\u001b[0m \u001b[0mrelim_itemsets\u001b[0m\u001b[0;34m[\u001b[0m\u001b[0mrule\u001b[0m\u001b[0;34m[\u001b[0m\u001b[0;36m1\u001b[0m\u001b[0;34m]\u001b[0m\u001b[0;34m]\u001b[0m\u001b[0;34m)\u001b[0m\u001b[0;34m\u001b[0m\u001b[0m\n\u001b[1;32m      3\u001b[0m     \u001b[0;32mif\u001b[0m \u001b[0ml\u001b[0m \u001b[0;34m>\u001b[0m \u001b[0;36m1\u001b[0m\u001b[0;34m:\u001b[0m\u001b[0;34m\u001b[0m\u001b[0m\n\u001b[1;32m      4\u001b[0m         \u001b[0;32mprint\u001b[0m \u001b[0ml\u001b[0m\u001b[0;34m\u001b[0m\u001b[0m\n\u001b[1;32m      5\u001b[0m     \u001b[0;31m# c = conviction(relim_itemsets[rule[1]], rule[3])\u001b[0m\u001b[0;34m\u001b[0m\u001b[0;34m\u001b[0m\u001b[0m\n",
      "\u001b[0;31mNameError\u001b[0m: name 'rules' is not defined"
     ]
    }
   ],
   "source": [
    "for rule in rules:\n",
    "    l = lift(relim_itemsets[rule[0] | rule[1]], relim_itemsets[rule[0]], relim_itemsets[rule[1]])\n",
    "    if l > 1:\n",
    "        print l\n",
    "    # c = conviction(relim_itemsets[rule[1]], rule[3])"
   ]
  }
 ],
 "metadata": {
  "kernelspec": {
   "display_name": "Python 2",
   "language": "python",
   "name": "python2"
  },
  "language_info": {
   "codemirror_mode": {
    "name": "ipython",
    "version": 2
   },
   "file_extension": ".py",
   "mimetype": "text/x-python",
   "name": "python",
   "nbconvert_exporter": "python",
   "pygments_lexer": "ipython2",
   "version": "2.7.11"
  }
 },
 "nbformat": 4,
 "nbformat_minor": 2
}
