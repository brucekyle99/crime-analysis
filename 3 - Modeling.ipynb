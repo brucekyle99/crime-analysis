{
 "cells": [
  {
   "cell_type": "markdown",
   "metadata": {},
   "source": [
    "## MODELING"
   ]
  },
  {
   "cell_type": "code",
   "execution_count": 1,
   "metadata": {
    "collapsed": true
   },
   "outputs": [],
   "source": [
    "import os\n",
    "import sys\n",
    "import numpy\n",
    "import pandas\n",
    "import matplotlib.pyplot as plt\n",
    "sys.path.append(os.path.abspath(\"./util\"))\n",
    "from pymining import itemmining, assocrules\n",
    "from fp_growth import find_frequent_itemsets as get_freq_itemset\n",
    "\n",
    "%matplotlib inline\n",
    "plt.style.use('ggplot')\n",
    "pandas.set_option('display.max_rows', 100, \"display.max_columns\", 100)"
   ]
  },
  {
   "cell_type": "code",
   "execution_count": 2,
   "metadata": {},
   "outputs": [
    {
     "data": {
      "text/plain": [
       "(2954, 21)"
      ]
     },
     "execution_count": 2,
     "metadata": {},
     "output_type": "execute_result"
    }
   ],
   "source": [
    "df = pandas.read_csv(\"./dataset/crimes_census_5poi_sampled100.csv\", index_col=0, sep=\"\\t\")\n",
    "df.shape"
   ]
  },
  {
   "cell_type": "code",
   "execution_count": 3,
   "metadata": {},
   "outputs": [
    {
     "data": {
      "text/html": [
       "<div>\n",
       "<table border=\"1\" class=\"dataframe\">\n",
       "  <thead>\n",
       "    <tr style=\"text-align: right;\">\n",
       "      <th></th>\n",
       "      <th>ARPCIncome</th>\n",
       "      <th>ARPerHEdu</th>\n",
       "      <th>ARPerWork</th>\n",
       "      <th>ARPopDen</th>\n",
       "      <th>ARPerAA</th>\n",
       "      <th>NIBRSclass</th>\n",
       "      <th>Place2</th>\n",
       "      <th>Report_Dat</th>\n",
       "    </tr>\n",
       "  </thead>\n",
       "  <tbody>\n",
       "    <tr>\n",
       "      <th>count</th>\n",
       "      <td>2954</td>\n",
       "      <td>2954</td>\n",
       "      <td>2954</td>\n",
       "      <td>2954</td>\n",
       "      <td>2954</td>\n",
       "      <td>2954</td>\n",
       "      <td>2954</td>\n",
       "      <td>2954</td>\n",
       "    </tr>\n",
       "    <tr>\n",
       "      <th>unique</th>\n",
       "      <td>15</td>\n",
       "      <td>15</td>\n",
       "      <td>15</td>\n",
       "      <td>15</td>\n",
       "      <td>13</td>\n",
       "      <td>52</td>\n",
       "      <td>61</td>\n",
       "      <td>36</td>\n",
       "    </tr>\n",
       "    <tr>\n",
       "      <th>top</th>\n",
       "      <td>inc-2/15</td>\n",
       "      <td>edu-10/15</td>\n",
       "      <td>empl-2/15</td>\n",
       "      <td>popden-1/15</td>\n",
       "      <td>afro-1/13</td>\n",
       "      <td>Drug/Narcotic Violations</td>\n",
       "      <td>Private Residence</td>\n",
       "      <td>09-2x</td>\n",
       "    </tr>\n",
       "    <tr>\n",
       "      <th>freq</th>\n",
       "      <td>304</td>\n",
       "      <td>320</td>\n",
       "      <td>391</td>\n",
       "      <td>366</td>\n",
       "      <td>492</td>\n",
       "      <td>100</td>\n",
       "      <td>476</td>\n",
       "      <td>109</td>\n",
       "    </tr>\n",
       "  </tbody>\n",
       "</table>\n",
       "</div>"
      ],
      "text/plain": [
       "       ARPCIncome  ARPerHEdu  ARPerWork     ARPopDen    ARPerAA  \\\n",
       "count        2954       2954       2954         2954       2954   \n",
       "unique         15         15         15           15         13   \n",
       "top      inc-2/15  edu-10/15  empl-2/15  popden-1/15  afro-1/13   \n",
       "freq          304        320        391          366        492   \n",
       "\n",
       "                      NIBRSclass             Place2 Report_Dat  \n",
       "count                       2954               2954       2954  \n",
       "unique                        52                 61         36  \n",
       "top     Drug/Narcotic Violations  Private Residence      09-2x  \n",
       "freq                         100                476        109  "
      ]
     },
     "execution_count": 3,
     "metadata": {},
     "output_type": "execute_result"
    }
   ],
   "source": [
    "df = df.drop([\"BLOCKID10\", \"Street_Nam\", \"ARHeteInx\", \"ARPerM1724\", \"ARPerHOwn\", \"ARPerSF\", \"ARPerRMI5L\", \"ARPer3MU\"], axis=1)\n",
    "df = df.drop([\"First_POI\", \"Second_POI\", \"Third_POI\", \"Fourth_POI\", \"Fifth_POI\"], axis=1)\n",
    "df.describe()"
   ]
  },
  {
   "cell_type": "code",
   "execution_count": 4,
   "metadata": {
    "collapsed": true
   },
   "outputs": [],
   "source": [
    "transactions = [row.tolist() for i, row in df.iterrows()]\n",
    "\n",
    "to_tuple   = lambda trans_list: tuple([tuple(trans) for trans in trans_list])\n",
    "percentage = lambda x, tot=len(transactions): (x * 1.0) / tot\n",
    "\n",
    "def only_rules_with(columns, rules, only_cons=False):\n",
    "    list_of_sets = [set(df[column].values) for column in columns]\n",
    "    result = []\n",
    "    for rule in rules:\n",
    "        current_itemset = rule[1] if only_cons else rule[0] | rule[1]\n",
    "        cond = True\n",
    "        for column_set in list_of_sets:\n",
    "            if (current_itemset & column_set) == set():\n",
    "                cond = False\n",
    "        if cond:\n",
    "            result.append(rule)\n",
    "    return result\n",
    "\n",
    "def print_that(filepath, rules):\n",
    "    with open(filepath, 'w+') as result_file:\n",
    "        for rule in rules:\n",
    "            result_file.write(rule_to_string(rule))\n",
    "        \n",
    "def rule_to_string(rule):\n",
    "    return str([j for j in rule[0]]) + \"  ->  \" + str([z for z in rule[1]]) + \\\n",
    "    \", supp: \" + str(rule[2]) + \\\n",
    "    \", conf: \" + str(rule[3]) + \\\n",
    "    \"\\n\"\n"
   ]
  },
  {
   "cell_type": "markdown",
   "metadata": {},
   "source": [
    "## Frequent Itemset generation"
   ]
  },
  {
   "cell_type": "code",
   "execution_count": 5,
   "metadata": {
    "collapsed": true
   },
   "outputs": [],
   "source": [
    "min_supp = 10"
   ]
  },
  {
   "cell_type": "markdown",
   "metadata": {},
   "source": [
    "#### Relim\n",
    "[Paper 1](https://pdfs.semanticscholar.org/cb3e/76d1773d08545f21daf28cc87b051604aa95.pdf)\n",
    "[Paper 2](http://www.borgelt.net/papers/relim.pdf)"
   ]
  },
  {
   "cell_type": "code",
   "execution_count": 6,
   "metadata": {},
   "outputs": [
    {
     "name": "stdout",
     "output_type": "stream",
     "text": [
      "number of frequent itemsets 5122 \n",
      "\n",
      "CPU times: user 255 ms, sys: 5.7 ms, total: 261 ms\n",
      "Wall time: 288 ms\n"
     ]
    }
   ],
   "source": [
    "%%time\n",
    "relim_input = itemmining.get_relim_input(to_tuple(transactions))\n",
    "relim_itemsets = itemmining.relim(relim_input, min_support=min_supp)\n",
    "print \"number of frequent itemsets\", len(relim_itemsets), \"\\n\""
   ]
  },
  {
   "cell_type": "markdown",
   "metadata": {},
   "source": [
    "#### FP-Growth"
   ]
  },
  {
   "cell_type": "code",
   "execution_count": 7,
   "metadata": {
    "collapsed": true,
    "slideshow": {
     "slide_type": "-"
    }
   },
   "outputs": [],
   "source": [
    "# %%time\n",
    "# freq_item_generator = get_freq_itemset(transactions, min_supp, include_support=True)\n",
    "# \n",
    "# fp_itemsets = {frozenset(itemset[0]): itemset[1] for itemset in freq_item_generator}\n",
    "# print \"number of frequent itemsets\", len(fp_itemsets), \"\\n\""
   ]
  },
  {
   "cell_type": "code",
   "execution_count": 8,
   "metadata": {
    "collapsed": true
   },
   "outputs": [],
   "source": [
    "# pruned_itemsets = only_itemset_with(\"NIBRSclass\", relim_itemsets)\n",
    "# len(pruned_itemsets)"
   ]
  },
  {
   "cell_type": "markdown",
   "metadata": {},
   "source": [
    "## Rule generation"
   ]
  },
  {
   "cell_type": "code",
   "execution_count": 9,
   "metadata": {
    "collapsed": true
   },
   "outputs": [],
   "source": [
    "min_conf = 0.60"
   ]
  },
  {
   "cell_type": "code",
   "execution_count": 10,
   "metadata": {},
   "outputs": [
    {
     "name": "stdout",
     "output_type": "stream",
     "text": [
      "17267\n",
      "CPU times: user 251 ms, sys: 15.5 ms, total: 266 ms\n",
      "Wall time: 299 ms\n"
     ]
    }
   ],
   "source": [
    "%%time\n",
    "rules = assocrules.mine_assoc_rules(relim_itemsets, min_support=min_supp, min_confidence=min_conf)\n",
    "print len(rules)"
   ]
  },
  {
   "cell_type": "markdown",
   "metadata": {},
   "source": [
    "#### Rules exploration"
   ]
  },
  {
   "cell_type": "code",
   "execution_count": 11,
   "metadata": {},
   "outputs": [
    {
     "name": "stdout",
     "output_type": "stream",
     "text": [
      "5521\n",
      "600\n"
     ]
    }
   ],
   "source": [
    "# leaving only rules that have crimes\n",
    "rules_with_crimes = only_rules_with([\"NIBRSclass\"], rules)\n",
    "rules_with_crimes_in_cons = only_rules_with([\"NIBRSclass\"], rules, only_cons=True)\n",
    "print len(rules_with_crimes)\n",
    "print len(rules_with_crimes_in_cons)"
   ]
  },
  {
   "cell_type": "code",
   "execution_count": 12,
   "metadata": {
    "collapsed": true
   },
   "outputs": [],
   "source": [
    "print_that('./dataset/result_file.txt', rules_with_crimes)\n",
    "print_that('./dataset/result_file_only_cons.txt', rules_with_crimes_in_cons)"
   ]
  },
  {
   "cell_type": "code",
   "execution_count": 13,
   "metadata": {
    "scrolled": true
   },
   "outputs": [
    {
     "data": {
      "text/plain": [
       "[(frozenset({'Forcible Fondling',\n",
       "             'Private Residence',\n",
       "             'afro-11/13',\n",
       "             'edu-15/15',\n",
       "             'inc-2/15',\n",
       "             'popden-3/15'}),\n",
       "  frozenset({'empl-2/15'}),\n",
       "  13,\n",
       "  1.0)]"
      ]
     },
     "execution_count": 13,
     "metadata": {},
     "output_type": "execute_result"
    }
   ],
   "source": [
    "rules_with_crimes[:1]"
   ]
  },
  {
   "cell_type": "code",
   "execution_count": 14,
   "metadata": {
    "scrolled": true
   },
   "outputs": [
    {
     "data": {
      "text/plain": [
       "[(frozenset({'School - Primary or Secondary', 'inc-1/15', 'popden-1/15'}),\n",
       "  frozenset({'Disorderly Conduct'}),\n",
       "  23,\n",
       "  0.696969696969697),\n",
       " (frozenset({'Private Residence', 'afro-11/13', 'popden-3/15'}),\n",
       "  frozenset({'Forcible Fondling'}),\n",
       "  13,\n",
       "  0.6842105263157895),\n",
       " (frozenset({'Gas Station', 'inc-8/15'}),\n",
       "  frozenset({'Prostitution', 'afro-12/13'}),\n",
       "  12,\n",
       "  0.6),\n",
       " (frozenset({'Gas Station', 'afro-12/13', 'inc-8/15'}),\n",
       "  frozenset({'Prostitution'}),\n",
       "  12,\n",
       "  0.6),\n",
       " (frozenset({'School - Primary or Secondary', 'edu-13/15'}),\n",
       "  frozenset({'Disorderly Conduct', 'popden-1/15'}),\n",
       "  23,\n",
       "  0.696969696969697),\n",
       " (frozenset({'School - Primary or Secondary', 'edu-13/15', 'popden-1/15'}),\n",
       "  frozenset({'Disorderly Conduct'}),\n",
       "  23,\n",
       "  0.696969696969697),\n",
       " (frozenset({'Department Store', 'inc-13/15'}),\n",
       "  frozenset({'Shoplifting', 'empl-12/15'}),\n",
       "  12,\n",
       "  0.8),\n",
       " (frozenset({'Department Store', 'empl-12/15', 'inc-13/15'}),\n",
       "  frozenset({'Shoplifting'}),\n",
       "  12,\n",
       "  0.8),\n",
       " (frozenset({'Department Store', 'empl-12/15'}),\n",
       "  frozenset({'Shoplifting', 'inc-13/15'}),\n",
       "  12,\n",
       "  0.8),\n",
       " (frozenset({'School - Primary or Secondary', 'empl-1/15'}),\n",
       "  frozenset({'Disorderly Conduct'}),\n",
       "  23,\n",
       "  0.6764705882352942),\n",
       " (frozenset({'Department Store', 'popden-2/15'}),\n",
       "  frozenset({'Shoplifting'}),\n",
       "  12,\n",
       "  0.8),\n",
       " (frozenset({'Financial Institution', 'afro-1/13'}),\n",
       "  frozenset({'Counterfeiting/Forgery'}),\n",
       "  10,\n",
       "  0.6666666666666666),\n",
       " (frozenset({'School - Primary or Secondary', 'edu-13/15'}),\n",
       "  frozenset({'Disorderly Conduct'}),\n",
       "  23,\n",
       "  0.696969696969697),\n",
       " (frozenset({'Department Store', 'afro-2/13'}),\n",
       "  frozenset({'Shoplifting'}),\n",
       "  12,\n",
       "  0.8),\n",
       " (frozenset({'Department Store', 'inc-13/15'}),\n",
       "  frozenset({'Shoplifting'}),\n",
       "  12,\n",
       "  0.8),\n",
       " (frozenset({'Department Store', 'empl-12/15'}),\n",
       "  frozenset({'Shoplifting'}),\n",
       "  12,\n",
       "  0.8),\n",
       " (frozenset({'Gas Station', 'inc-8/15'}),\n",
       "  frozenset({'Prostitution'}),\n",
       "  12,\n",
       "  0.6),\n",
       " (frozenset({'Department Store', 'edu-8/15'}),\n",
       "  frozenset({'Shoplifting'}),\n",
       "  20,\n",
       "  0.6666666666666666),\n",
       " (frozenset({'ATM'}),\n",
       "  frozenset({'Credit Card/Teller Fraud'}),\n",
       "  17,\n",
       "  0.7391304347826086),\n",
       " (frozenset({'Financial Institution'}),\n",
       "  frozenset({'Counterfeiting/Forgery'}),\n",
       "  29,\n",
       "  0.6744186046511628)]"
      ]
     },
     "execution_count": 14,
     "metadata": {},
     "output_type": "execute_result"
    }
   ],
   "source": [
    "rules_with_crimes_in_cons[-20:]"
   ]
  },
  {
   "cell_type": "markdown",
   "metadata": {},
   "source": [
    "---"
   ]
  },
  {
   "cell_type": "markdown",
   "metadata": {},
   "source": [
    "### Entire dataset"
   ]
  },
  {
   "cell_type": "code",
   "execution_count": 16,
   "metadata": {},
   "outputs": [
    {
     "data": {
      "text/plain": [
       "Index([u'BLOCKID10', u'First_POI', u'Second_POI', u'Third_POI', u'Fourth_POI',\n",
       "       u'Fifth_POI', u'ARPCIncome', u'ARPerHEdu', u'ARPerWork', u'ARPerRMI5L',\n",
       "       u'ARPer3MU', u'ARPopDen', u'ARPerAA', u'ARHeteInx', u'ARPerM1724',\n",
       "       u'ARPerHOwn', u'ARPerSF', u'NIBRSclass', u'Place2', u'Report_Dat',\n",
       "       u'Street_Nam'],\n",
       "      dtype='object')"
      ]
     },
     "execution_count": 16,
     "metadata": {},
     "output_type": "execute_result"
    }
   ],
   "source": [
    "df_entire.columns"
   ]
  },
  {
   "cell_type": "code",
   "execution_count": null,
   "metadata": {
    "collapsed": true
   },
   "outputs": [],
   "source": []
  },
  {
   "cell_type": "code",
   "execution_count": 15,
   "metadata": {},
   "outputs": [
    {
     "ename": "ValueError",
     "evalue": "labels ['BLOCKID10' 'Street_Nam' 'ARHeteInx' 'ARPerM1724' 'ARPerHOwn' 'ARPerSF'\n 'ARPerRMI5L' 'ARPer3MU'] not contained in axis",
     "output_type": "error",
     "traceback": [
      "\u001b[0;31m---------------------------------------------------------------------------\u001b[0m",
      "\u001b[0;31mValueError\u001b[0m                                Traceback (most recent call last)",
      "\u001b[0;32m<ipython-input-15-c20ad74340da>\u001b[0m in \u001b[0;36m<module>\u001b[0;34m()\u001b[0m\n\u001b[1;32m      1\u001b[0m \u001b[0mdf_entire\u001b[0m \u001b[0;34m=\u001b[0m \u001b[0mpandas\u001b[0m\u001b[0;34m.\u001b[0m\u001b[0mread_csv\u001b[0m\u001b[0;34m(\u001b[0m\u001b[0;34m\"./dataset/crimes_census_5poi.csv\"\u001b[0m\u001b[0;34m,\u001b[0m \u001b[0mindex_col\u001b[0m\u001b[0;34m=\u001b[0m\u001b[0;36m0\u001b[0m\u001b[0;34m,\u001b[0m \u001b[0msep\u001b[0m\u001b[0;34m=\u001b[0m\u001b[0;34m\"\\t\"\u001b[0m\u001b[0;34m)\u001b[0m\u001b[0;34m\u001b[0m\u001b[0m\n\u001b[1;32m      2\u001b[0m df_entire = df.drop([\"BLOCKID10\", \"Street_Nam\", \"ARHeteInx\", \"ARPerM1724\", \"ARPerHOwn\", \n\u001b[0;32m----> 3\u001b[0;31m                      \"ARPerSF\", \"ARPerRMI5L\", \"ARPer3MU\"], axis=1)\n\u001b[0m\u001b[1;32m      4\u001b[0m \u001b[0mdf_entire\u001b[0m \u001b[0;34m=\u001b[0m \u001b[0mdf\u001b[0m\u001b[0;34m.\u001b[0m\u001b[0mdrop\u001b[0m\u001b[0;34m(\u001b[0m\u001b[0;34m[\u001b[0m\u001b[0;34m\"First_POI\"\u001b[0m\u001b[0;34m,\u001b[0m \u001b[0;34m\"Second_POI\"\u001b[0m\u001b[0;34m,\u001b[0m \u001b[0;34m\"Third_POI\"\u001b[0m\u001b[0;34m,\u001b[0m \u001b[0;34m\"Fourth_POI\"\u001b[0m\u001b[0;34m,\u001b[0m \u001b[0;34m\"Fifth_POI\"\u001b[0m\u001b[0;34m]\u001b[0m\u001b[0;34m,\u001b[0m \u001b[0maxis\u001b[0m\u001b[0;34m=\u001b[0m\u001b[0;36m1\u001b[0m\u001b[0;34m)\u001b[0m\u001b[0;34m\u001b[0m\u001b[0m\n\u001b[1;32m      5\u001b[0m \u001b[0;34m\u001b[0m\u001b[0m\n",
      "\u001b[0;32m/Users/chris/anaconda/lib/python2.7/site-packages/pandas/core/generic.pyc\u001b[0m in \u001b[0;36mdrop\u001b[0;34m(self, labels, axis, level, inplace, errors)\u001b[0m\n\u001b[1;32m   1871\u001b[0m                 \u001b[0mnew_axis\u001b[0m \u001b[0;34m=\u001b[0m \u001b[0maxis\u001b[0m\u001b[0;34m.\u001b[0m\u001b[0mdrop\u001b[0m\u001b[0;34m(\u001b[0m\u001b[0mlabels\u001b[0m\u001b[0;34m,\u001b[0m \u001b[0mlevel\u001b[0m\u001b[0;34m=\u001b[0m\u001b[0mlevel\u001b[0m\u001b[0;34m,\u001b[0m \u001b[0merrors\u001b[0m\u001b[0;34m=\u001b[0m\u001b[0merrors\u001b[0m\u001b[0;34m)\u001b[0m\u001b[0;34m\u001b[0m\u001b[0m\n\u001b[1;32m   1872\u001b[0m             \u001b[0;32melse\u001b[0m\u001b[0;34m:\u001b[0m\u001b[0;34m\u001b[0m\u001b[0m\n\u001b[0;32m-> 1873\u001b[0;31m                 \u001b[0mnew_axis\u001b[0m \u001b[0;34m=\u001b[0m \u001b[0maxis\u001b[0m\u001b[0;34m.\u001b[0m\u001b[0mdrop\u001b[0m\u001b[0;34m(\u001b[0m\u001b[0mlabels\u001b[0m\u001b[0;34m,\u001b[0m \u001b[0merrors\u001b[0m\u001b[0;34m=\u001b[0m\u001b[0merrors\u001b[0m\u001b[0;34m)\u001b[0m\u001b[0;34m\u001b[0m\u001b[0m\n\u001b[0m\u001b[1;32m   1874\u001b[0m             \u001b[0mdropped\u001b[0m \u001b[0;34m=\u001b[0m \u001b[0mself\u001b[0m\u001b[0;34m.\u001b[0m\u001b[0mreindex\u001b[0m\u001b[0;34m(\u001b[0m\u001b[0;34m**\u001b[0m\u001b[0;34m{\u001b[0m\u001b[0maxis_name\u001b[0m\u001b[0;34m:\u001b[0m \u001b[0mnew_axis\u001b[0m\u001b[0;34m}\u001b[0m\u001b[0;34m)\u001b[0m\u001b[0;34m\u001b[0m\u001b[0m\n\u001b[1;32m   1875\u001b[0m             \u001b[0;32mtry\u001b[0m\u001b[0;34m:\u001b[0m\u001b[0;34m\u001b[0m\u001b[0m\n",
      "\u001b[0;32m/Users/chris/anaconda/lib/python2.7/site-packages/pandas/indexes/base.pyc\u001b[0m in \u001b[0;36mdrop\u001b[0;34m(self, labels, errors)\u001b[0m\n\u001b[1;32m   2964\u001b[0m             \u001b[0;32mif\u001b[0m \u001b[0merrors\u001b[0m \u001b[0;34m!=\u001b[0m \u001b[0;34m'ignore'\u001b[0m\u001b[0;34m:\u001b[0m\u001b[0;34m\u001b[0m\u001b[0m\n\u001b[1;32m   2965\u001b[0m                 raise ValueError('labels %s not contained in axis' %\n\u001b[0;32m-> 2966\u001b[0;31m                                  labels[mask])\n\u001b[0m\u001b[1;32m   2967\u001b[0m             \u001b[0mindexer\u001b[0m \u001b[0;34m=\u001b[0m \u001b[0mindexer\u001b[0m\u001b[0;34m[\u001b[0m\u001b[0;34m~\u001b[0m\u001b[0mmask\u001b[0m\u001b[0;34m]\u001b[0m\u001b[0;34m\u001b[0m\u001b[0m\n\u001b[1;32m   2968\u001b[0m         \u001b[0;32mreturn\u001b[0m \u001b[0mself\u001b[0m\u001b[0;34m.\u001b[0m\u001b[0mdelete\u001b[0m\u001b[0;34m(\u001b[0m\u001b[0mindexer\u001b[0m\u001b[0;34m)\u001b[0m\u001b[0;34m\u001b[0m\u001b[0m\n",
      "\u001b[0;31mValueError\u001b[0m: labels ['BLOCKID10' 'Street_Nam' 'ARHeteInx' 'ARPerM1724' 'ARPerHOwn' 'ARPerSF'\n 'ARPerRMI5L' 'ARPer3MU'] not contained in axis"
     ]
    }
   ],
   "source": [
    "df_entire = pandas.read_csv(\"./dataset/crimes_census_5poi.csv\", index_col=0, sep=\"\\t\")\n",
    "df_entire = df.drop([\"BLOCKID10\", \"Street_Nam\", \"ARHeteInx\", \"ARPerM1724\", \"ARPerHOwn\", \n",
    "                     \"ARPerSF\", \"ARPerRMI5L\", \"ARPer3MU\"], axis=1)\n",
    "df_entire = df.drop([\"First_POI\", \"Second_POI\", \"Third_POI\", \"Fourth_POI\", \"Fifth_POI\"], axis=1)\n",
    "\n",
    "transactions_entire = [row.tolist() for i, row in df_entire.iterrows()]"
   ]
  },
  {
   "cell_type": "code",
   "execution_count": null,
   "metadata": {
    "collapsed": true
   },
   "outputs": [],
   "source": [
    "%time\n",
    "min_supp = 250\n",
    "relim_input_entire = itemmining.get_relim_input(to_tuple(transactions_entire))\n",
    "relim_itemsets_entire = itemmining.relim(relim_input_entire, min_support=min_supp)\n",
    "print \"number of frequent itemsets\", len(relim_itemsets), \"\\n\""
   ]
  },
  {
   "cell_type": "code",
   "execution_count": null,
   "metadata": {
    "collapsed": true
   },
   "outputs": [],
   "source": [
    "min_conf = 0.90\n",
    "rules_entire = assocrules.mine_assoc_rules(relim_itemsets_entire, min_support=min_supp, min_confidence=min_conf)\n",
    "print len(rules)"
   ]
  },
  {
   "cell_type": "code",
   "execution_count": null,
   "metadata": {
    "collapsed": true
   },
   "outputs": [],
   "source": [
    "rules_with_crimes_entire = only_rules_with([\"NIBRSclass\"], rules_entire)\n",
    "rules_with_crimes_in_cons_entire = only_rules_with([\"NIBRSclass\"], rules_entire, only_cons=True)\n",
    "print len(rules_with_crimes_entire)\n",
    "print len(rules_with_crimes_in_cons_entire)"
   ]
  }
 ],
 "metadata": {
  "kernelspec": {
   "display_name": "Python 2",
   "language": "python",
   "name": "python2"
  },
  "language_info": {
   "codemirror_mode": {
    "name": "ipython",
    "version": 2
   },
   "file_extension": ".py",
   "mimetype": "text/x-python",
   "name": "python",
   "nbconvert_exporter": "python",
   "pygments_lexer": "ipython2",
   "version": "2.7.11"
  }
 },
 "nbformat": 4,
 "nbformat_minor": 2
}
