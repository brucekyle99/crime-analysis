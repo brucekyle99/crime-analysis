{
 "cells": [
  {
   "cell_type": "markdown",
   "metadata": {
    "deletable": true,
    "editable": true
   },
   "source": [
    "## SEQUENCE MINING"
   ]
  },
  {
   "cell_type": "code",
   "execution_count": 1,
   "metadata": {
    "collapsed": false,
    "deletable": true,
    "editable": true
   },
   "outputs": [],
   "source": [
    "import pysal\n",
    "import numpy\n",
    "import scipy\n",
    "import pandas\n",
    "from pymining import seqmining\n",
    "from sklearn import preprocessing\n",
    "\n",
    "%matplotlib inline\n",
    "pandas.set_option('display.max_rows', 100, \"display.max_columns\", 100)"
   ]
  },
  {
   "cell_type": "code",
   "execution_count": 2,
   "metadata": {
    "collapsed": false,
    "deletable": true,
    "editable": true
   },
   "outputs": [
    {
     "name": "stdout",
     "output_type": "stream",
     "text": [
      "Business (24375, 80)\n",
      "Crimes (67595, 53)\n"
     ]
    }
   ],
   "source": [
    "db_business = pysal.open('../dataset/Data/CLT_Business_Attri.dbf','r')\n",
    "df_business = pandas.DataFrame(db_business[:], columns=db_business.header)\n",
    "print \"Business\", df_business.shape\n",
    "\n",
    "db_crimes = pysal.open('../dataset/Data/CrimeIncident_CMPD_2010.dbf','r')\n",
    "df = pandas.DataFrame(db_crimes[:], columns=db_crimes.header)\n",
    "print \"Crimes\", df.shape"
   ]
  },
  {
   "cell_type": "markdown",
   "metadata": {
    "deletable": true,
    "editable": true
   },
   "source": [
    "#### Adding blocks to crimes"
   ]
  },
  {
   "cell_type": "code",
   "execution_count": 3,
   "metadata": {
    "collapsed": false,
    "deletable": true,
    "editable": true
   },
   "outputs": [
    {
     "data": {
      "text/plain": [
       "(50455, 54)"
      ]
     },
     "execution_count": 3,
     "metadata": {},
     "output_type": "execute_result"
    }
   ],
   "source": [
    "street2block = df_business.set_index('ST_NAME')[\"Block_id\"].to_dict()\n",
    "df[\"BLOCKID10\"] = df[\"Street_Nam\"].map(lambda street: street2block.get(street, \"not found\"))\n",
    "\n",
    "df = df[df[\"BLOCKID10\"] != \"not found\"]\n",
    "df.shape"
   ]
  },
  {
   "cell_type": "code",
   "execution_count": 4,
   "metadata": {
    "collapsed": false,
    "deletable": true,
    "editable": true
   },
   "outputs": [
    {
     "data": {
      "text/plain": [
       "LabelEncoder()"
      ]
     },
     "execution_count": 4,
     "metadata": {},
     "output_type": "execute_result"
    }
   ],
   "source": [
    "encoder = preprocessing.LabelEncoder()\n",
    "encoder.fit(list(set(df[\"NIBRSclass\"])))"
   ]
  },
  {
   "cell_type": "code",
   "execution_count": 5,
   "metadata": {
    "collapsed": true,
    "deletable": true,
    "editable": true
   },
   "outputs": [],
   "source": [
    "# groupyng crimes by date\n",
    "date_dict = dict()\n",
    "for i, row in df.iterrows():\n",
    "    date     = row[\"Report_Dat\"][:-5]\n",
    "    number   = row[\"Report_Dat\"][-4:]\n",
    "    typology = row[\"NIBRSclass\"]\n",
    "    block    = row[\"BLOCKID10\"]\n",
    "    crime    = (number, typology, block)\n",
    "    date_dict[date] = date_dict.get(date, []) + [crime]\n",
    "\n",
    "# sorting crimes on number\n",
    "date_dict = {day: sorted(date_dict[day], key=lambda x: x[0]) for day in date_dict}\n",
    "# fetching only crimes in Bolck Group 3\n",
    "sequences_3 = [ [crime[1] for crime in date_dict[day] if crime[2][-4] == \"3\"] for day in sorted(date_dict.keys())]"
   ]
  },
  {
   "cell_type": "code",
   "execution_count": 6,
   "metadata": {
    "collapsed": true,
    "deletable": true,
    "editable": true
   },
   "outputs": [],
   "source": [
    "with open(\"../dataset/seqmining.txt\", \"w+\") as output:\n",
    "    for day in sequences_3:\n",
    "        for crime in day[:-2]:\n",
    "            output.write(crime + \",\")\n",
    "        output.write(day[-1] + \"\\n\")"
   ]
  },
  {
   "cell_type": "markdown",
   "metadata": {
    "deletable": true,
    "editable": true
   },
   "source": [
    "### Daily"
   ]
  },
  {
   "cell_type": "code",
   "execution_count": 7,
   "metadata": {
    "collapsed": false,
    "deletable": true,
    "editable": true
   },
   "outputs": [
    {
     "name": "stdout",
     "output_type": "stream",
     "text": [
      "365\n",
      "484\n",
      "CPU times: user 408 ms, sys: 0 ns, total: 408 ms\n",
      "Wall time: 395 ms\n"
     ]
    }
   ],
   "source": [
    "%%time\n",
    "freq_seqs = seqmining.freq_seq_enum(sequences_3, 100)\n",
    "print len(sequences_3)\n",
    "print len(freq_seqs)\n",
    "sorted(freq_seqs)"
   ]
  },
  {
   "cell_type": "code",
   "execution_count": 8,
   "metadata": {
    "collapsed": false,
    "deletable": true,
    "editable": true
   },
   "outputs": [
    {
     "data": {
      "text/plain": [
       "[((u'Theft From Motor Vehicle', u'All Other Offenses', u'Simple Assault'),\n",
       "  139),\n",
       " ((u'Burglary/B&E', u'Simple Assault'), 232),\n",
       " ((u'Motor Vehicle Theft', u'Theft From Motor Vehicle', u'Burglary/B&E'), 102),\n",
       " ((u'Damage/Vandalism Of Property',\n",
       "   u'All Other Thefts',\n",
       "   u'All Other Thefts',\n",
       "   u'Simple Assault'),\n",
       "  101),\n",
       " ((u'Theft From Motor Vehicle',\n",
       "   u'All Other Thefts',\n",
       "   u'Drug/Narcotic Violations'),\n",
       "  145)]"
      ]
     },
     "execution_count": 8,
     "metadata": {},
     "output_type": "execute_result"
    }
   ],
   "source": [
    "list(freq_seqs)[:5]"
   ]
  },
  {
   "cell_type": "markdown",
   "metadata": {
    "deletable": true,
    "editable": true
   },
   "source": [
    "### Monthly"
   ]
  },
  {
   "cell_type": "code",
   "execution_count": 9,
   "metadata": {
    "collapsed": false,
    "deletable": true,
    "editable": true
   },
   "outputs": [],
   "source": [
    "get_month = lambda day: day[:2] + day[-5:] \n",
    "months = [get_month(day) for day in date_dict]"
   ]
  },
  {
   "cell_type": "code",
   "execution_count": 10,
   "metadata": {
    "collapsed": false,
    "deletable": true,
    "editable": true
   },
   "outputs": [],
   "source": [
    "month_dict = dict()\n",
    "for day in sorted(date_dict.keys()):\n",
    "    month = get_month(day)\n",
    "    month_dict[month] = month_dict.get(month, []) + date_dict[day]"
   ]
  },
  {
   "cell_type": "code",
   "execution_count": 11,
   "metadata": {
    "collapsed": false,
    "deletable": true,
    "editable": true,
    "scrolled": false
   },
   "outputs": [],
   "source": [
    "seqs_monthly_3 = [ [crime[1] for crime in month_dict[month] if crime[2][-4] == \"3\"] for month in sorted(month_dict.keys())]"
   ]
  },
  {
   "cell_type": "code",
   "execution_count": 12,
   "metadata": {
    "collapsed": true,
    "deletable": true,
    "editable": true
   },
   "outputs": [],
   "source": [
    "with open(\"../dataset/seq_monthly-mining.txt\", \"w+\") as output:\n",
    "    for month in seqs_monthly_3:\n",
    "        for crime in month[:-2]:\n",
    "            output.write(crime + \",\")\n",
    "        output.write(month[-1] + \"\\n\")"
   ]
  },
  {
   "cell_type": "code",
   "execution_count": 38,
   "metadata": {
    "collapsed": false,
    "deletable": true,
    "editable": true
   },
   "outputs": [],
   "source": [
    "%%time\n",
    "freq_monthly_seqs = seqmining.freq_seq_enum(seqs_monthly_3, 10)\n",
    "print len(seqs_monthly_3)\n",
    "print len(freq_monthly_seqs)\n",
    "sorted(freq_monthly_seqs)"
   ]
  },
  {
   "cell_type": "code",
   "execution_count": null,
   "metadata": {
    "collapsed": true,
    "deletable": true,
    "editable": true
   },
   "outputs": [],
   "source": [
    "list(freq_monthly_seqs)[:5]"
   ]
  },
  {
   "cell_type": "markdown",
   "metadata": {
    "deletable": true,
    "editable": true
   },
   "source": [
    "### CloFAST"
   ]
  },
  {
   "cell_type": "code",
   "execution_count": 16,
   "metadata": {
    "collapsed": false,
    "deletable": true,
    "editable": true
   },
   "outputs": [
    {
     "name": "stdout",
     "output_type": "stream",
     "text": [
      "aprioriallcode-sources.jar  aprioriallcod.jar\r\n"
     ]
    }
   ],
   "source": [
    "!ls ../resources/aprioriallcod"
   ]
  },
  {
   "cell_type": "code",
   "execution_count": 19,
   "metadata": {
    "collapsed": false,
    "deletable": true,
    "editable": true
   },
   "outputs": [
    {
     "name": "stdout",
     "output_type": "stream",
     "text": [
      "Start loading the dataset\n",
      "End loading the dataset\n",
      "Start sequence extraction\n",
      "End sequence extraction\n"
     ]
    }
   ],
   "source": [
    "!java -jar ../resources/aprioriallcod/aprioriallcod.jar\\\n",
    "    /home/chris/Workspace/app/crime-analysis/dataset/seqmining.txt\\\n",
    "    10 ../dataset/results-cloFAST-seqmining.txt FREQUENT"
   ]
  }
 ],
 "metadata": {
  "kernelspec": {
   "display_name": "Python 2",
   "language": "python",
   "name": "python2"
  },
  "language_info": {
   "codemirror_mode": {
    "name": "ipython",
    "version": 2
   },
   "file_extension": ".py",
   "mimetype": "text/x-python",
   "name": "python",
   "nbconvert_exporter": "python",
   "pygments_lexer": "ipython2",
   "version": "2.7.13"
  }
 },
 "nbformat": 4,
 "nbformat_minor": 1
}
